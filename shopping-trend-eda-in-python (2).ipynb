{
 "cells": [
  {
   "cell_type": "code",
   "execution_count": 1,
   "id": "95c2ed38",
   "metadata": {
    "_cell_guid": "b1076dfc-b9ad-4769-8c92-a6c4dae69d19",
    "_uuid": "8f2839f25d086af736a60e9eeb907d3b93b6e0e5",
    "execution": {
     "iopub.execute_input": "2023-12-07T07:15:58.426526Z",
     "iopub.status.busy": "2023-12-07T07:15:58.425586Z",
     "iopub.status.idle": "2023-12-07T07:15:58.888586Z",
     "shell.execute_reply": "2023-12-07T07:15:58.886633Z"
    },
    "papermill": {
     "duration": 0.486395,
     "end_time": "2023-12-07T07:15:58.891734",
     "exception": false,
     "start_time": "2023-12-07T07:15:58.405339",
     "status": "completed"
    },
    "tags": []
   },
   "outputs": [
    {
     "name": "stdout",
     "output_type": "stream",
     "text": [
      "/kaggle/input/customer-shopping-trends-dataset/shopping_trends.csv\n",
      "/kaggle/input/customer-shopping-trends-dataset/shopping_trends_updated.csv\n"
     ]
    }
   ],
   "source": [
    "# This Python 3 environment comes with many helpful analytics libraries installed\n",
    "# It is defined by the kaggle/python Docker image: https://github.com/kaggle/docker-python\n",
    "# For example, here's several helpful packages to load\n",
    "\n",
    "import numpy as np # linear algebra\n",
    "import pandas as pd # data processing, CSV file I/O (e.g. pd.read_csv)\n",
    "\n",
    "# Input data files are available in the read-only \"../input/\" directory\n",
    "# For example, running this (by clicking run or pressing Shift+Enter) will list all files under the input directory\n",
    "\n",
    "import os\n",
    "for dirname, _, filenames in os.walk('/kaggle/input'):\n",
    "    for filename in filenames:\n",
    "        print(os.path.join(dirname, filename))\n",
    "\n",
    "# You can write up to 20GB to the current directory (/kaggle/working/) that gets preserved as output when you create a version using \"Save & Run All\" \n",
    "# You can also write temporary files to /kaggle/temp/, but they won't be saved outside of the current session"
   ]
  },
  {
   "cell_type": "markdown",
   "id": "fa34ce2f",
   "metadata": {
    "papermill": {
     "duration": 0.017415,
     "end_time": "2023-12-07T07:15:58.926880",
     "exception": false,
     "start_time": "2023-12-07T07:15:58.909465",
     "status": "completed"
    },
    "tags": []
   },
   "source": [
    "# About Database\n",
    "This dataset comprises a diverse range of attributes associated with customer shopping preferences, providing crucial insights for businesses aiming to deepen their comprehension of their customer demographic. The included features encompass customer age, gender, purchase amounts, favored payment methods, purchase frequency, and feedback ratings. Furthermore, the dataset incorporates information on the types of items bought, shopping frequencies, preferred seasons for shopping, and engagements with promotional offers. Boasting a compilation of 3,900 records, this dataset serves as a cornerstone for businesses seeking to leverage data-driven insights to enhance decision-making and formulate customer-centric strategies."
   ]
  },
  {
   "cell_type": "markdown",
   "id": "696e0d40",
   "metadata": {
    "papermill": {
     "duration": 0.017837,
     "end_time": "2023-12-07T07:15:58.962166",
     "exception": false,
     "start_time": "2023-12-07T07:15:58.944329",
     "status": "completed"
    },
    "tags": []
   },
   "source": [
    "# Importing Libraries"
   ]
  },
  {
   "cell_type": "code",
   "execution_count": 2,
   "id": "52218497",
   "metadata": {
    "execution": {
     "iopub.execute_input": "2023-12-07T07:15:59.001736Z",
     "iopub.status.busy": "2023-12-07T07:15:59.001204Z",
     "iopub.status.idle": "2023-12-07T07:16:01.964950Z",
     "shell.execute_reply": "2023-12-07T07:16:01.963495Z"
    },
    "papermill": {
     "duration": 2.986674,
     "end_time": "2023-12-07T07:16:01.968253",
     "exception": false,
     "start_time": "2023-12-07T07:15:58.981579",
     "status": "completed"
    },
    "tags": []
   },
   "outputs": [],
   "source": [
    "import pandas as pd\n",
    "import numpy as np\n",
    "import matplotlib.pyplot as plt\n",
    "import seaborn as sns\n",
    "import plotly.express as px"
   ]
  },
  {
   "cell_type": "markdown",
   "id": "a30b9bc3",
   "metadata": {
    "papermill": {
     "duration": 0.017653,
     "end_time": "2023-12-07T07:16:02.004441",
     "exception": false,
     "start_time": "2023-12-07T07:16:01.986788",
     "status": "completed"
    },
    "tags": []
   },
   "source": []
  },
  {
   "cell_type": "markdown",
   "id": "749efcfd",
   "metadata": {
    "papermill": {
     "duration": 0.018681,
     "end_time": "2023-12-07T07:16:02.041600",
     "exception": false,
     "start_time": "2023-12-07T07:16:02.022919",
     "status": "completed"
    },
    "tags": []
   },
   "source": [
    "# Loading the Dataset"
   ]
  },
  {
   "cell_type": "code",
   "execution_count": 3,
   "id": "b07521b1",
   "metadata": {
    "execution": {
     "iopub.execute_input": "2023-12-07T07:16:02.081068Z",
     "iopub.status.busy": "2023-12-07T07:16:02.080099Z",
     "iopub.status.idle": "2023-12-07T07:16:02.161852Z",
     "shell.execute_reply": "2023-12-07T07:16:02.160676Z"
    },
    "papermill": {
     "duration": 0.10423,
     "end_time": "2023-12-07T07:16:02.164356",
     "exception": false,
     "start_time": "2023-12-07T07:16:02.060126",
     "status": "completed"
    },
    "tags": []
   },
   "outputs": [
    {
     "data": {
      "text/html": [
       "<div>\n",
       "<style scoped>\n",
       "    .dataframe tbody tr th:only-of-type {\n",
       "        vertical-align: middle;\n",
       "    }\n",
       "\n",
       "    .dataframe tbody tr th {\n",
       "        vertical-align: top;\n",
       "    }\n",
       "\n",
       "    .dataframe thead th {\n",
       "        text-align: right;\n",
       "    }\n",
       "</style>\n",
       "<table border=\"1\" class=\"dataframe\">\n",
       "  <thead>\n",
       "    <tr style=\"text-align: right;\">\n",
       "      <th></th>\n",
       "      <th>Customer ID</th>\n",
       "      <th>Age</th>\n",
       "      <th>Gender</th>\n",
       "      <th>Item Purchased</th>\n",
       "      <th>Category</th>\n",
       "      <th>Purchase Amount (USD)</th>\n",
       "      <th>Location</th>\n",
       "      <th>Size</th>\n",
       "      <th>Color</th>\n",
       "      <th>Season</th>\n",
       "      <th>Review Rating</th>\n",
       "      <th>Subscription Status</th>\n",
       "      <th>Shipping Type</th>\n",
       "      <th>Discount Applied</th>\n",
       "      <th>Promo Code Used</th>\n",
       "      <th>Previous Purchases</th>\n",
       "      <th>Payment Method</th>\n",
       "      <th>Frequency of Purchases</th>\n",
       "    </tr>\n",
       "  </thead>\n",
       "  <tbody>\n",
       "    <tr>\n",
       "      <th>0</th>\n",
       "      <td>1</td>\n",
       "      <td>55</td>\n",
       "      <td>Male</td>\n",
       "      <td>Blouse</td>\n",
       "      <td>Clothing</td>\n",
       "      <td>53</td>\n",
       "      <td>Kentucky</td>\n",
       "      <td>L</td>\n",
       "      <td>Gray</td>\n",
       "      <td>Winter</td>\n",
       "      <td>3.1</td>\n",
       "      <td>Yes</td>\n",
       "      <td>Express</td>\n",
       "      <td>Yes</td>\n",
       "      <td>Yes</td>\n",
       "      <td>14</td>\n",
       "      <td>Venmo</td>\n",
       "      <td>Fortnightly</td>\n",
       "    </tr>\n",
       "    <tr>\n",
       "      <th>1</th>\n",
       "      <td>2</td>\n",
       "      <td>19</td>\n",
       "      <td>Male</td>\n",
       "      <td>Sweater</td>\n",
       "      <td>Clothing</td>\n",
       "      <td>64</td>\n",
       "      <td>Maine</td>\n",
       "      <td>L</td>\n",
       "      <td>Maroon</td>\n",
       "      <td>Winter</td>\n",
       "      <td>3.1</td>\n",
       "      <td>Yes</td>\n",
       "      <td>Express</td>\n",
       "      <td>Yes</td>\n",
       "      <td>Yes</td>\n",
       "      <td>2</td>\n",
       "      <td>Cash</td>\n",
       "      <td>Fortnightly</td>\n",
       "    </tr>\n",
       "    <tr>\n",
       "      <th>2</th>\n",
       "      <td>3</td>\n",
       "      <td>50</td>\n",
       "      <td>Male</td>\n",
       "      <td>Jeans</td>\n",
       "      <td>Clothing</td>\n",
       "      <td>73</td>\n",
       "      <td>Massachusetts</td>\n",
       "      <td>S</td>\n",
       "      <td>Maroon</td>\n",
       "      <td>Spring</td>\n",
       "      <td>3.1</td>\n",
       "      <td>Yes</td>\n",
       "      <td>Free Shipping</td>\n",
       "      <td>Yes</td>\n",
       "      <td>Yes</td>\n",
       "      <td>23</td>\n",
       "      <td>Credit Card</td>\n",
       "      <td>Weekly</td>\n",
       "    </tr>\n",
       "    <tr>\n",
       "      <th>3</th>\n",
       "      <td>4</td>\n",
       "      <td>21</td>\n",
       "      <td>Male</td>\n",
       "      <td>Sandals</td>\n",
       "      <td>Footwear</td>\n",
       "      <td>90</td>\n",
       "      <td>Rhode Island</td>\n",
       "      <td>M</td>\n",
       "      <td>Maroon</td>\n",
       "      <td>Spring</td>\n",
       "      <td>3.5</td>\n",
       "      <td>Yes</td>\n",
       "      <td>Next Day Air</td>\n",
       "      <td>Yes</td>\n",
       "      <td>Yes</td>\n",
       "      <td>49</td>\n",
       "      <td>PayPal</td>\n",
       "      <td>Weekly</td>\n",
       "    </tr>\n",
       "    <tr>\n",
       "      <th>4</th>\n",
       "      <td>5</td>\n",
       "      <td>45</td>\n",
       "      <td>Male</td>\n",
       "      <td>Blouse</td>\n",
       "      <td>Clothing</td>\n",
       "      <td>49</td>\n",
       "      <td>Oregon</td>\n",
       "      <td>M</td>\n",
       "      <td>Turquoise</td>\n",
       "      <td>Spring</td>\n",
       "      <td>2.7</td>\n",
       "      <td>Yes</td>\n",
       "      <td>Free Shipping</td>\n",
       "      <td>Yes</td>\n",
       "      <td>Yes</td>\n",
       "      <td>31</td>\n",
       "      <td>PayPal</td>\n",
       "      <td>Annually</td>\n",
       "    </tr>\n",
       "  </tbody>\n",
       "</table>\n",
       "</div>"
      ],
      "text/plain": [
       "   Customer ID  Age Gender Item Purchased  Category  Purchase Amount (USD)  \\\n",
       "0            1   55   Male         Blouse  Clothing                     53   \n",
       "1            2   19   Male        Sweater  Clothing                     64   \n",
       "2            3   50   Male          Jeans  Clothing                     73   \n",
       "3            4   21   Male        Sandals  Footwear                     90   \n",
       "4            5   45   Male         Blouse  Clothing                     49   \n",
       "\n",
       "        Location Size      Color  Season  Review Rating Subscription Status  \\\n",
       "0       Kentucky    L       Gray  Winter            3.1                 Yes   \n",
       "1          Maine    L     Maroon  Winter            3.1                 Yes   \n",
       "2  Massachusetts    S     Maroon  Spring            3.1                 Yes   \n",
       "3   Rhode Island    M     Maroon  Spring            3.5                 Yes   \n",
       "4         Oregon    M  Turquoise  Spring            2.7                 Yes   \n",
       "\n",
       "   Shipping Type Discount Applied Promo Code Used  Previous Purchases  \\\n",
       "0        Express              Yes             Yes                  14   \n",
       "1        Express              Yes             Yes                   2   \n",
       "2  Free Shipping              Yes             Yes                  23   \n",
       "3   Next Day Air              Yes             Yes                  49   \n",
       "4  Free Shipping              Yes             Yes                  31   \n",
       "\n",
       "  Payment Method Frequency of Purchases  \n",
       "0          Venmo            Fortnightly  \n",
       "1           Cash            Fortnightly  \n",
       "2    Credit Card                 Weekly  \n",
       "3         PayPal                 Weekly  \n",
       "4         PayPal               Annually  "
      ]
     },
     "execution_count": 3,
     "metadata": {},
     "output_type": "execute_result"
    }
   ],
   "source": [
    "df = pd.read_csv(\"/kaggle/input/customer-shopping-trends-dataset/shopping_trends_updated.csv\")\n",
    "df.head()"
   ]
  },
  {
   "cell_type": "markdown",
   "id": "06b6006b",
   "metadata": {
    "papermill": {
     "duration": 0.017668,
     "end_time": "2023-12-07T07:16:02.200800",
     "exception": false,
     "start_time": "2023-12-07T07:16:02.183132",
     "status": "completed"
    },
    "tags": []
   },
   "source": [
    "# Data Preparation"
   ]
  },
  {
   "cell_type": "code",
   "execution_count": 4,
   "id": "f56b8424",
   "metadata": {
    "execution": {
     "iopub.execute_input": "2023-12-07T07:16:02.239469Z",
     "iopub.status.busy": "2023-12-07T07:16:02.238811Z",
     "iopub.status.idle": "2023-12-07T07:16:02.276303Z",
     "shell.execute_reply": "2023-12-07T07:16:02.275124Z"
    },
    "papermill": {
     "duration": 0.060531,
     "end_time": "2023-12-07T07:16:02.279288",
     "exception": false,
     "start_time": "2023-12-07T07:16:02.218757",
     "status": "completed"
    },
    "tags": []
   },
   "outputs": [
    {
     "name": "stdout",
     "output_type": "stream",
     "text": [
      "<class 'pandas.core.frame.DataFrame'>\n",
      "RangeIndex: 3900 entries, 0 to 3899\n",
      "Data columns (total 18 columns):\n",
      " #   Column                  Non-Null Count  Dtype  \n",
      "---  ------                  --------------  -----  \n",
      " 0   Customer ID             3900 non-null   int64  \n",
      " 1   Age                     3900 non-null   int64  \n",
      " 2   Gender                  3900 non-null   object \n",
      " 3   Item Purchased          3900 non-null   object \n",
      " 4   Category                3900 non-null   object \n",
      " 5   Purchase Amount (USD)   3900 non-null   int64  \n",
      " 6   Location                3900 non-null   object \n",
      " 7   Size                    3900 non-null   object \n",
      " 8   Color                   3900 non-null   object \n",
      " 9   Season                  3900 non-null   object \n",
      " 10  Review Rating           3900 non-null   float64\n",
      " 11  Subscription Status     3900 non-null   object \n",
      " 12  Shipping Type           3900 non-null   object \n",
      " 13  Discount Applied        3900 non-null   object \n",
      " 14  Promo Code Used         3900 non-null   object \n",
      " 15  Previous Purchases      3900 non-null   int64  \n",
      " 16  Payment Method          3900 non-null   object \n",
      " 17  Frequency of Purchases  3900 non-null   object \n",
      "dtypes: float64(1), int64(4), object(13)\n",
      "memory usage: 548.6+ KB\n"
     ]
    }
   ],
   "source": [
    "df.info()"
   ]
  },
  {
   "cell_type": "code",
   "execution_count": 5,
   "id": "512c81b2",
   "metadata": {
    "execution": {
     "iopub.execute_input": "2023-12-07T07:16:02.319025Z",
     "iopub.status.busy": "2023-12-07T07:16:02.318341Z",
     "iopub.status.idle": "2023-12-07T07:16:02.344811Z",
     "shell.execute_reply": "2023-12-07T07:16:02.343035Z"
    },
    "papermill": {
     "duration": 0.049507,
     "end_time": "2023-12-07T07:16:02.347280",
     "exception": false,
     "start_time": "2023-12-07T07:16:02.297773",
     "status": "completed"
    },
    "tags": []
   },
   "outputs": [
    {
     "name": "stdout",
     "output_type": "stream",
     "text": [
      "<class 'pandas.core.frame.DataFrame'>\n",
      "RangeIndex: 3900 entries, 0 to 3899\n",
      "Data columns (total 18 columns):\n",
      " #   Column                  Non-Null Count  Dtype  \n",
      "---  ------                  --------------  -----  \n",
      " 0   Customer ID             3900 non-null   object \n",
      " 1   Age                     3900 non-null   int64  \n",
      " 2   Gender                  3900 non-null   object \n",
      " 3   Item Purchased          3900 non-null   object \n",
      " 4   Category                3900 non-null   object \n",
      " 5   Purchase Amount (USD)   3900 non-null   int64  \n",
      " 6   Location                3900 non-null   object \n",
      " 7   Size                    3900 non-null   object \n",
      " 8   Color                   3900 non-null   object \n",
      " 9   Season                  3900 non-null   object \n",
      " 10  Review Rating           3900 non-null   float64\n",
      " 11  Subscription Status     3900 non-null   object \n",
      " 12  Shipping Type           3900 non-null   object \n",
      " 13  Discount Applied        3900 non-null   object \n",
      " 14  Promo Code Used         3900 non-null   object \n",
      " 15  Previous Purchases      3900 non-null   int64  \n",
      " 16  Payment Method          3900 non-null   object \n",
      " 17  Frequency of Purchases  3900 non-null   object \n",
      "dtypes: float64(1), int64(3), object(14)\n",
      "memory usage: 548.6+ KB\n"
     ]
    }
   ],
   "source": [
    "#Converting 'Customer ID' from integer to string\n",
    "df['Customer ID']=df['Customer ID'].astype(str)\n",
    "df.info()"
   ]
  },
  {
   "cell_type": "code",
   "execution_count": 6,
   "id": "123481ee",
   "metadata": {
    "execution": {
     "iopub.execute_input": "2023-12-07T07:16:02.385834Z",
     "iopub.status.busy": "2023-12-07T07:16:02.385374Z",
     "iopub.status.idle": "2023-12-07T07:16:02.411161Z",
     "shell.execute_reply": "2023-12-07T07:16:02.409923Z"
    },
    "papermill": {
     "duration": 0.048672,
     "end_time": "2023-12-07T07:16:02.414203",
     "exception": false,
     "start_time": "2023-12-07T07:16:02.365531",
     "status": "completed"
    },
    "tags": []
   },
   "outputs": [
    {
     "data": {
      "text/html": [
       "<div>\n",
       "<style scoped>\n",
       "    .dataframe tbody tr th:only-of-type {\n",
       "        vertical-align: middle;\n",
       "    }\n",
       "\n",
       "    .dataframe tbody tr th {\n",
       "        vertical-align: top;\n",
       "    }\n",
       "\n",
       "    .dataframe thead th {\n",
       "        text-align: right;\n",
       "    }\n",
       "</style>\n",
       "<table border=\"1\" class=\"dataframe\">\n",
       "  <thead>\n",
       "    <tr style=\"text-align: right;\">\n",
       "      <th></th>\n",
       "      <th>Age</th>\n",
       "      <th>Purchase Amount (USD)</th>\n",
       "      <th>Review Rating</th>\n",
       "      <th>Previous Purchases</th>\n",
       "    </tr>\n",
       "  </thead>\n",
       "  <tbody>\n",
       "    <tr>\n",
       "      <th>count</th>\n",
       "      <td>3900.000000</td>\n",
       "      <td>3900.000000</td>\n",
       "      <td>3900.000000</td>\n",
       "      <td>3900.000000</td>\n",
       "    </tr>\n",
       "    <tr>\n",
       "      <th>mean</th>\n",
       "      <td>44.068462</td>\n",
       "      <td>59.764359</td>\n",
       "      <td>3.749949</td>\n",
       "      <td>25.351538</td>\n",
       "    </tr>\n",
       "    <tr>\n",
       "      <th>std</th>\n",
       "      <td>15.207589</td>\n",
       "      <td>23.685392</td>\n",
       "      <td>0.716223</td>\n",
       "      <td>14.447125</td>\n",
       "    </tr>\n",
       "    <tr>\n",
       "      <th>min</th>\n",
       "      <td>18.000000</td>\n",
       "      <td>20.000000</td>\n",
       "      <td>2.500000</td>\n",
       "      <td>1.000000</td>\n",
       "    </tr>\n",
       "    <tr>\n",
       "      <th>25%</th>\n",
       "      <td>31.000000</td>\n",
       "      <td>39.000000</td>\n",
       "      <td>3.100000</td>\n",
       "      <td>13.000000</td>\n",
       "    </tr>\n",
       "    <tr>\n",
       "      <th>50%</th>\n",
       "      <td>44.000000</td>\n",
       "      <td>60.000000</td>\n",
       "      <td>3.700000</td>\n",
       "      <td>25.000000</td>\n",
       "    </tr>\n",
       "    <tr>\n",
       "      <th>75%</th>\n",
       "      <td>57.000000</td>\n",
       "      <td>81.000000</td>\n",
       "      <td>4.400000</td>\n",
       "      <td>38.000000</td>\n",
       "    </tr>\n",
       "    <tr>\n",
       "      <th>max</th>\n",
       "      <td>70.000000</td>\n",
       "      <td>100.000000</td>\n",
       "      <td>5.000000</td>\n",
       "      <td>50.000000</td>\n",
       "    </tr>\n",
       "  </tbody>\n",
       "</table>\n",
       "</div>"
      ],
      "text/plain": [
       "               Age  Purchase Amount (USD)  Review Rating  Previous Purchases\n",
       "count  3900.000000            3900.000000    3900.000000         3900.000000\n",
       "mean     44.068462              59.764359       3.749949           25.351538\n",
       "std      15.207589              23.685392       0.716223           14.447125\n",
       "min      18.000000              20.000000       2.500000            1.000000\n",
       "25%      31.000000              39.000000       3.100000           13.000000\n",
       "50%      44.000000              60.000000       3.700000           25.000000\n",
       "75%      57.000000              81.000000       4.400000           38.000000\n",
       "max      70.000000             100.000000       5.000000           50.000000"
      ]
     },
     "execution_count": 6,
     "metadata": {},
     "output_type": "execute_result"
    }
   ],
   "source": [
    "#Statistical analysis\n",
    "df.describe()"
   ]
  },
  {
   "cell_type": "markdown",
   "id": "af933b8a",
   "metadata": {
    "papermill": {
     "duration": 0.082905,
     "end_time": "2023-12-07T07:16:02.515702",
     "exception": false,
     "start_time": "2023-12-07T07:16:02.432797",
     "status": "completed"
    },
    "tags": []
   },
   "source": [
    "From the above analysis it is clear that this database is very balanced. It does not have any null or missing values. The changes of outliers are nearly zero."
   ]
  },
  {
   "cell_type": "code",
   "execution_count": 7,
   "id": "5ee60a0b",
   "metadata": {
    "execution": {
     "iopub.execute_input": "2023-12-07T07:16:02.558069Z",
     "iopub.status.busy": "2023-12-07T07:16:02.557195Z",
     "iopub.status.idle": "2023-12-07T07:16:02.576271Z",
     "shell.execute_reply": "2023-12-07T07:16:02.575058Z"
    },
    "papermill": {
     "duration": 0.042866,
     "end_time": "2023-12-07T07:16:02.579510",
     "exception": false,
     "start_time": "2023-12-07T07:16:02.536644",
     "status": "completed"
    },
    "tags": []
   },
   "outputs": [
    {
     "data": {
      "text/plain": [
       "Customer ID               3900\n",
       "Age                         53\n",
       "Gender                       2\n",
       "Item Purchased              25\n",
       "Category                     4\n",
       "Purchase Amount (USD)       81\n",
       "Location                    50\n",
       "Size                         4\n",
       "Color                       25\n",
       "Season                       4\n",
       "Review Rating               26\n",
       "Subscription Status          2\n",
       "Shipping Type                6\n",
       "Discount Applied             2\n",
       "Promo Code Used              2\n",
       "Previous Purchases          50\n",
       "Payment Method               6\n",
       "Frequency of Purchases       7\n",
       "dtype: int64"
      ]
     },
     "execution_count": 7,
     "metadata": {},
     "output_type": "execute_result"
    }
   ],
   "source": [
    "#Checking the unique values of the dataframe\n",
    "df.nunique()"
   ]
  },
  {
   "cell_type": "markdown",
   "id": "1d444325",
   "metadata": {
    "papermill": {
     "duration": 0.018408,
     "end_time": "2023-12-07T07:16:02.618281",
     "exception": false,
     "start_time": "2023-12-07T07:16:02.599873",
     "status": "completed"
    },
    "tags": []
   },
   "source": [
    "# Data Analysis & Visualization"
   ]
  },
  {
   "cell_type": "markdown",
   "id": "aa2a695f",
   "metadata": {
    "papermill": {
     "duration": 0.018859,
     "end_time": "2023-12-07T07:16:02.655956",
     "exception": false,
     "start_time": "2023-12-07T07:16:02.637097",
     "status": "completed"
    },
    "tags": []
   },
   "source": [
    "In this segment we will try to evaluate the data by answering few questions."
   ]
  },
  {
   "cell_type": "markdown",
   "id": "a4da912a",
   "metadata": {
    "papermill": {
     "duration": 0.018619,
     "end_time": "2023-12-07T07:16:02.695178",
     "exception": false,
     "start_time": "2023-12-07T07:16:02.676559",
     "status": "completed"
    },
    "tags": []
   },
   "source": [
    "1.What is the overall distribution of customer ages in the dataset?"
   ]
  },
  {
   "cell_type": "code",
   "execution_count": 8,
   "id": "764202d8",
   "metadata": {
    "execution": {
     "iopub.execute_input": "2023-12-07T07:16:02.734728Z",
     "iopub.status.busy": "2023-12-07T07:16:02.734286Z",
     "iopub.status.idle": "2023-12-07T07:16:03.038011Z",
     "shell.execute_reply": "2023-12-07T07:16:03.036517Z"
    },
    "papermill": {
     "duration": 0.326586,
     "end_time": "2023-12-07T07:16:03.040707",
     "exception": false,
     "start_time": "2023-12-07T07:16:02.714121",
     "status": "completed"
    },
    "tags": []
   },
   "outputs": [
    {
     "name": "stdout",
     "output_type": "stream",
     "text": [
      "Age\n",
      "69    88\n",
      "57    87\n",
      "41    86\n",
      "25    85\n",
      "49    84\n",
      "50    83\n",
      "54    83\n",
      "27    83\n",
      "62    83\n",
      "32    82\n",
      "19    81\n",
      "58    81\n",
      "42    80\n",
      "43    79\n",
      "28    79\n",
      "31    79\n",
      "37    77\n",
      "46    76\n",
      "29    76\n",
      "68    75\n",
      "59    75\n",
      "63    75\n",
      "56    74\n",
      "36    74\n",
      "55    73\n",
      "52    73\n",
      "64    73\n",
      "35    72\n",
      "51    72\n",
      "65    72\n",
      "40    72\n",
      "45    72\n",
      "47    71\n",
      "66    71\n",
      "30    71\n",
      "23    71\n",
      "38    70\n",
      "53    70\n",
      "18    69\n",
      "21    69\n",
      "26    69\n",
      "34    68\n",
      "48    68\n",
      "24    68\n",
      "39    68\n",
      "70    67\n",
      "22    66\n",
      "61    65\n",
      "60    65\n",
      "33    63\n",
      "20    62\n",
      "67    54\n",
      "44    51\n",
      "Name: count, dtype: int64\n"
     ]
    },
    {
     "data": {
      "text/plain": [
       "<Axes: xlabel='Age_category', ylabel='count'>"
      ]
     },
     "execution_count": 8,
     "metadata": {},
     "output_type": "execute_result"
    },
    {
     "data": {
      "image/png": "[encoded data removed]",
      "text/plain": [
       "<Figure size 640x480 with 1 Axes>"
      ]
     },
     "metadata": {},
     "output_type": "display_data"
    }
   ],
   "source": [
    "print(df['Age'].value_counts())\n",
    "#we are cutting the age into some category and storing in the different column\n",
    "df['Age_category']= pd.cut(df['Age'], bins=[18,30,50,70], labels=['Young', 'Mid-age', 'Old'])\n",
    "sns.countplot(data=df,x='Age_category')"
   ]
  },
  {
   "cell_type": "markdown",
   "id": "0a20b538",
   "metadata": {
    "papermill": {
     "duration": 0.019736,
     "end_time": "2023-12-07T07:16:03.080278",
     "exception": false,
     "start_time": "2023-12-07T07:16:03.060542",
     "status": "completed"
    },
    "tags": []
   },
   "source": [
    "The presence of a mode at 69 years and an average of 44 years implies a right-skewed or positively skewed distribution. In such a distribution, there is a longer tail on the right side, indicating that there may be a larger number of older customers compared to younger ones."
   ]
  },
  {
   "cell_type": "markdown",
   "id": "0f9ab484",
   "metadata": {
    "papermill": {
     "duration": 0.019343,
     "end_time": "2023-12-07T07:16:03.119580",
     "exception": false,
     "start_time": "2023-12-07T07:16:03.100237",
     "status": "completed"
    },
    "tags": []
   },
   "source": [
    "2. How does the average purchase amount vary across different product categories?"
   ]
  },
  {
   "cell_type": "code",
   "execution_count": 9,
   "id": "aeebcbc1",
   "metadata": {
    "execution": {
     "iopub.execute_input": "2023-12-07T07:16:03.161222Z",
     "iopub.status.busy": "2023-12-07T07:16:03.160829Z",
     "iopub.status.idle": "2023-12-07T07:16:03.174481Z",
     "shell.execute_reply": "2023-12-07T07:16:03.173632Z"
    },
    "papermill": {
     "duration": 0.0369,
     "end_time": "2023-12-07T07:16:03.176753",
     "exception": false,
     "start_time": "2023-12-07T07:16:03.139853",
     "status": "completed"
    },
    "tags": []
   },
   "outputs": [
    {
     "data": {
      "text/plain": [
       "Category\n",
       "Accessories    59.838710\n",
       "Clothing       60.025331\n",
       "Footwear       60.255426\n",
       "Outerwear      57.172840\n",
       "Name: Purchase Amount (USD), dtype: float64"
      ]
     },
     "execution_count": 9,
     "metadata": {},
     "output_type": "execute_result"
    }
   ],
   "source": [
    "avg=df.groupby('Category')['Purchase Amount (USD)'].mean()\n",
    "avg"
   ]
  },
  {
   "cell_type": "markdown",
   "id": "2f2aff84",
   "metadata": {
    "papermill": {
     "duration": 0.019841,
     "end_time": "2023-12-07T07:16:03.216434",
     "exception": false,
     "start_time": "2023-12-07T07:16:03.196593",
     "status": "completed"
    },
    "tags": []
   },
   "source": [
    "Customers tend to spend a similar amount regardless of the specific category of the product they are purchasing"
   ]
  },
  {
   "cell_type": "markdown",
   "id": "f9dfaba9",
   "metadata": {
    "papermill": {
     "duration": 0.020454,
     "end_time": "2023-12-07T07:16:03.256998",
     "exception": false,
     "start_time": "2023-12-07T07:16:03.236544",
     "status": "completed"
    },
    "tags": []
   },
   "source": [
    "3. Which gender has the highest number of purchases?"
   ]
  },
  {
   "cell_type": "code",
   "execution_count": 10,
   "id": "8173f3a1",
   "metadata": {
    "execution": {
     "iopub.execute_input": "2023-12-07T07:16:03.300129Z",
     "iopub.status.busy": "2023-12-07T07:16:03.297944Z",
     "iopub.status.idle": "2023-12-07T07:16:03.309970Z",
     "shell.execute_reply": "2023-12-07T07:16:03.308739Z"
    },
    "papermill": {
     "duration": 0.03605,
     "end_time": "2023-12-07T07:16:03.312966",
     "exception": false,
     "start_time": "2023-12-07T07:16:03.276916",
     "status": "completed"
    },
    "tags": []
   },
   "outputs": [
    {
     "data": {
      "text/plain": [
       "Gender\n",
       "Female    1248\n",
       "Male      2652\n",
       "Name: Purchase Amount (USD), dtype: int64"
      ]
     },
     "execution_count": 10,
     "metadata": {},
     "output_type": "execute_result"
    }
   ],
   "source": [
    "df.groupby('Gender')['Purchase Amount (USD)'].count()"
   ]
  },
  {
   "cell_type": "markdown",
   "id": "ab0c280a",
   "metadata": {
    "papermill": {
     "duration": 0.020077,
     "end_time": "2023-12-07T07:16:03.353664",
     "exception": false,
     "start_time": "2023-12-07T07:16:03.333587",
     "status": "completed"
    },
    "tags": []
   },
   "source": [
    "Male customers has highest no of purchase than female"
   ]
  },
  {
   "cell_type": "markdown",
   "id": "b80200ed",
   "metadata": {
    "papermill": {
     "duration": 0.019454,
     "end_time": "2023-12-07T07:16:03.393090",
     "exception": false,
     "start_time": "2023-12-07T07:16:03.373636",
     "status": "completed"
    },
    "tags": []
   },
   "source": [
    "4. What are the most commonly purchased items in each category?"
   ]
  },
  {
   "cell_type": "code",
   "execution_count": 11,
   "id": "8719d922",
   "metadata": {
    "execution": {
     "iopub.execute_input": "2023-12-07T07:16:03.435148Z",
     "iopub.status.busy": "2023-12-07T07:16:03.434695Z",
     "iopub.status.idle": "2023-12-07T07:16:03.452321Z",
     "shell.execute_reply": "2023-12-07T07:16:03.451320Z"
    },
    "papermill": {
     "duration": 0.04151,
     "end_time": "2023-12-07T07:16:03.454657",
     "exception": false,
     "start_time": "2023-12-07T07:16:03.413147",
     "status": "completed"
    },
    "tags": []
   },
   "outputs": [
    {
     "data": {
      "text/plain": [
       "Category     Item Purchased\n",
       "Accessories  Jewelry           171\n",
       "             Sunglasses        161\n",
       "             Belt              161\n",
       "             Scarf             157\n",
       "             Hat               154\n",
       "             Handbag           153\n",
       "             Backpack          143\n",
       "             Gloves            140\n",
       "Clothing     Pants             171\n",
       "             Blouse            171\n",
       "             Shirt             169\n",
       "             Dress             166\n",
       "             Sweater           164\n",
       "             Socks             159\n",
       "             Skirt             158\n",
       "             Shorts            157\n",
       "             Hoodie            151\n",
       "             T-shirt           147\n",
       "             Jeans             124\n",
       "Footwear     Sandals           160\n",
       "             Shoes             150\n",
       "             Sneakers          145\n",
       "             Boots             144\n",
       "Outerwear    Jacket            163\n",
       "             Coat              161\n",
       "Name: count, dtype: int64"
      ]
     },
     "execution_count": 11,
     "metadata": {},
     "output_type": "execute_result"
    }
   ],
   "source": [
    "df.groupby('Category')['Item Purchased'].value_counts()"
   ]
  },
  {
   "cell_type": "markdown",
   "id": "3734d1c0",
   "metadata": {
    "papermill": {
     "duration": 0.019836,
     "end_time": "2023-12-07T07:16:03.494693",
     "exception": false,
     "start_time": "2023-12-07T07:16:03.474857",
     "status": "completed"
    },
    "tags": []
   },
   "source": [
    "* The most commonly purchased item in the Accessories category is jewelry. \n",
    "* Within the Clothing category, the most commonly purchased items are pants and blouses. \n",
    "* The most commonly purchased item in the Footwear category is sandals.\n",
    "* The most commonly purchased items in the Outerwear category are jackets and coats.\n",
    "* Conclusion: By understanding the common preferences of customers, businesses can tailor their inventory and marketing strategies to meet the demands of their target audience more effectively"
   ]
  },
  {
   "cell_type": "markdown",
   "id": "b65ee20a",
   "metadata": {
    "papermill": {
     "duration": 0.019715,
     "end_time": "2023-12-07T07:16:03.534636",
     "exception": false,
     "start_time": "2023-12-07T07:16:03.514921",
     "status": "completed"
    },
    "tags": []
   },
   "source": [
    "5. Are there any specific seasons or months where customer spending is significantly higher?"
   ]
  },
  {
   "cell_type": "code",
   "execution_count": 12,
   "id": "c051f44d",
   "metadata": {
    "execution": {
     "iopub.execute_input": "2023-12-07T07:16:03.576784Z",
     "iopub.status.busy": "2023-12-07T07:16:03.576337Z",
     "iopub.status.idle": "2023-12-07T07:16:03.586348Z",
     "shell.execute_reply": "2023-12-07T07:16:03.585114Z"
    },
    "papermill": {
     "duration": 0.034114,
     "end_time": "2023-12-07T07:16:03.588960",
     "exception": false,
     "start_time": "2023-12-07T07:16:03.554846",
     "status": "completed"
    },
    "tags": []
   },
   "outputs": [
    {
     "data": {
      "text/plain": [
       "Season\n",
       "Spring    999\n",
       "Fall      975\n",
       "Winter    971\n",
       "Summer    955\n",
       "Name: count, dtype: int64"
      ]
     },
     "execution_count": 12,
     "metadata": {},
     "output_type": "execute_result"
    }
   ],
   "source": [
    "df['Season'].value_counts()"
   ]
  },
  {
   "cell_type": "markdown",
   "id": "680b0671",
   "metadata": {
    "papermill": {
     "duration": 0.022351,
     "end_time": "2023-12-07T07:16:03.631556",
     "exception": false,
     "start_time": "2023-12-07T07:16:03.609205",
     "status": "completed"
    },
    "tags": []
   },
   "source": [
    "In Spring, customer purchased slightly more products than other times."
   ]
  },
  {
   "cell_type": "markdown",
   "id": "1238aa3c",
   "metadata": {
    "papermill": {
     "duration": 0.025929,
     "end_time": "2023-12-07T07:16:03.684628",
     "exception": false,
     "start_time": "2023-12-07T07:16:03.658699",
     "status": "completed"
    },
    "tags": []
   },
   "source": [
    "6. Highest selling item in each seasons?"
   ]
  },
  {
   "cell_type": "code",
   "execution_count": 13,
   "id": "ed028f46",
   "metadata": {
    "execution": {
     "iopub.execute_input": "2023-12-07T07:16:03.733681Z",
     "iopub.status.busy": "2023-12-07T07:16:03.733129Z",
     "iopub.status.idle": "2023-12-07T07:16:03.749675Z",
     "shell.execute_reply": "2023-12-07T07:16:03.748119Z"
    },
    "papermill": {
     "duration": 0.045613,
     "end_time": "2023-12-07T07:16:03.753012",
     "exception": false,
     "start_time": "2023-12-07T07:16:03.707399",
     "status": "completed"
    },
    "tags": []
   },
   "outputs": [
    {
     "data": {
      "text/plain": [
       "Season  Item Purchased\n",
       "Fall    Jacket            54\n",
       "Spring  Sweater           52\n",
       "Winter  Sunglasses        52\n",
       "        Pants             51\n",
       "        Shirt             50\n",
       "Fall    Hat               50\n",
       "Summer  Pants             50\n",
       "Winter  Hoodie            48\n",
       "Name: count, dtype: int64"
      ]
     },
     "execution_count": 13,
     "metadata": {},
     "output_type": "execute_result"
    }
   ],
   "source": [
    "df.groupby('Season')['Item Purchased'].value_counts().sort_values(ascending=False)[:8]"
   ]
  },
  {
   "cell_type": "markdown",
   "id": "1b44e089",
   "metadata": {
    "papermill": {
     "duration": 0.032922,
     "end_time": "2023-12-07T07:16:03.815100",
     "exception": false,
     "start_time": "2023-12-07T07:16:03.782178",
     "status": "completed"
    },
    "tags": []
   },
   "source": [
    "7. What is the average rating given by customers for each product category?"
   ]
  },
  {
   "cell_type": "code",
   "execution_count": 14,
   "id": "238136ef",
   "metadata": {
    "execution": {
     "iopub.execute_input": "2023-12-07T07:16:03.861743Z",
     "iopub.status.busy": "2023-12-07T07:16:03.861259Z",
     "iopub.status.idle": "2023-12-07T07:16:03.872999Z",
     "shell.execute_reply": "2023-12-07T07:16:03.871509Z"
    },
    "papermill": {
     "duration": 0.037433,
     "end_time": "2023-12-07T07:16:03.876044",
     "exception": false,
     "start_time": "2023-12-07T07:16:03.838611",
     "status": "completed"
    },
    "tags": []
   },
   "outputs": [
    {
     "data": {
      "text/plain": [
       "Category\n",
       "Accessories    3.768629\n",
       "Clothing       3.723143\n",
       "Footwear       3.790651\n",
       "Outerwear      3.746914\n",
       "Name: Review Rating, dtype: float64"
      ]
     },
     "execution_count": 14,
     "metadata": {},
     "output_type": "execute_result"
    }
   ],
   "source": [
    "df.groupby('Category')['Review Rating'].mean()"
   ]
  },
  {
   "cell_type": "markdown",
   "id": "228fa60e",
   "metadata": {
    "papermill": {
     "duration": 0.02072,
     "end_time": "2023-12-07T07:16:03.918212",
     "exception": false,
     "start_time": "2023-12-07T07:16:03.897492",
     "status": "completed"
    },
    "tags": []
   },
   "source": [
    "This finding suggests that, on average, customers tend to provide a similar rating of 3.7 for products in different categories. This uniformity in average ratings indicates that customers perceive the quality or satisfaction level of products across various categories to be relatively consistent."
   ]
  },
  {
   "cell_type": "markdown",
   "id": "7f4fa75d",
   "metadata": {
    "papermill": {
     "duration": 0.030691,
     "end_time": "2023-12-07T07:16:03.971002",
     "exception": false,
     "start_time": "2023-12-07T07:16:03.940311",
     "status": "completed"
    },
    "tags": []
   },
   "source": [
    "8. Are there any notable differences in purchase behavior between subscribed and non-subscribed customers?"
   ]
  },
  {
   "cell_type": "code",
   "execution_count": 15,
   "id": "d1b2f51c",
   "metadata": {
    "execution": {
     "iopub.execute_input": "2023-12-07T07:16:04.027094Z",
     "iopub.status.busy": "2023-12-07T07:16:04.026638Z",
     "iopub.status.idle": "2023-12-07T07:16:04.037335Z",
     "shell.execute_reply": "2023-12-07T07:16:04.036333Z"
    },
    "papermill": {
     "duration": 0.03889,
     "end_time": "2023-12-07T07:16:04.041679",
     "exception": false,
     "start_time": "2023-12-07T07:16:04.002789",
     "status": "completed"
    },
    "tags": []
   },
   "outputs": [
    {
     "name": "stdout",
     "output_type": "stream",
     "text": [
      "Subscription Status\n",
      "No     2847\n",
      "Yes    1053\n",
      "Name: count, dtype: int64\n",
      "Subscription Status\n",
      "No     170436\n",
      "Yes     62645\n",
      "Name: Purchase Amount (USD), dtype: int64\n"
     ]
    }
   ],
   "source": [
    "print(df['Subscription Status'].value_counts())\n",
    "print(df.groupby('Subscription Status')['Purchase Amount (USD)'].sum())"
   ]
  },
  {
   "cell_type": "markdown",
   "id": "7f457a70",
   "metadata": {
    "papermill": {
     "duration": 0.025363,
     "end_time": "2023-12-07T07:16:04.095212",
     "exception": false,
     "start_time": "2023-12-07T07:16:04.069849",
     "status": "completed"
    },
    "tags": []
   },
   "source": [
    "This database has almost double no of non-subscriber customer than subscriber. Non-subscriber purchased more than the other."
   ]
  },
  {
   "cell_type": "markdown",
   "id": "e4d1e538",
   "metadata": {
    "papermill": {
     "duration": 0.021101,
     "end_time": "2023-12-07T07:16:04.138804",
     "exception": false,
     "start_time": "2023-12-07T07:16:04.117703",
     "status": "completed"
    },
    "tags": []
   },
   "source": [
    "9. Which payment method is the most popular among customers?"
   ]
  },
  {
   "cell_type": "code",
   "execution_count": 16,
   "id": "e300d9ef",
   "metadata": {
    "execution": {
     "iopub.execute_input": "2023-12-07T07:16:04.183204Z",
     "iopub.status.busy": "2023-12-07T07:16:04.182598Z",
     "iopub.status.idle": "2023-12-07T07:16:04.191967Z",
     "shell.execute_reply": "2023-12-07T07:16:04.191105Z"
    },
    "papermill": {
     "duration": 0.033975,
     "end_time": "2023-12-07T07:16:04.194258",
     "exception": false,
     "start_time": "2023-12-07T07:16:04.160283",
     "status": "completed"
    },
    "tags": []
   },
   "outputs": [
    {
     "data": {
      "text/plain": [
       "Payment Method\n",
       "PayPal           677\n",
       "Credit Card      671\n",
       "Cash             670\n",
       "Debit Card       636\n",
       "Venmo            634\n",
       "Bank Transfer    612\n",
       "Name: count, dtype: int64"
      ]
     },
     "execution_count": 16,
     "metadata": {},
     "output_type": "execute_result"
    }
   ],
   "source": [
    "df['Payment Method'].value_counts()"
   ]
  },
  {
   "cell_type": "markdown",
   "id": "3751b341",
   "metadata": {
    "papermill": {
     "duration": 0.021837,
     "end_time": "2023-12-07T07:16:04.237887",
     "exception": false,
     "start_time": "2023-12-07T07:16:04.216050",
     "status": "completed"
    },
    "tags": []
   },
   "source": [
    "Paypal is most popular among customer"
   ]
  },
  {
   "cell_type": "markdown",
   "id": "7e6d0739",
   "metadata": {
    "papermill": {
     "duration": 0.020676,
     "end_time": "2023-12-07T07:16:04.279693",
     "exception": false,
     "start_time": "2023-12-07T07:16:04.259017",
     "status": "completed"
    },
    "tags": []
   },
   "source": [
    "10. Do customers who use promo codes tend to spend more than those who don't?"
   ]
  },
  {
   "cell_type": "code",
   "execution_count": 17,
   "id": "2416807b",
   "metadata": {
    "execution": {
     "iopub.execute_input": "2023-12-07T07:16:04.324808Z",
     "iopub.status.busy": "2023-12-07T07:16:04.324360Z",
     "iopub.status.idle": "2023-12-07T07:16:04.333942Z",
     "shell.execute_reply": "2023-12-07T07:16:04.332706Z"
    },
    "papermill": {
     "duration": 0.035759,
     "end_time": "2023-12-07T07:16:04.336600",
     "exception": false,
     "start_time": "2023-12-07T07:16:04.300841",
     "status": "completed"
    },
    "tags": []
   },
   "outputs": [
    {
     "data": {
      "text/plain": [
       "Promo Code Used\n",
       "No     2223\n",
       "Yes    1677\n",
       "Name: Purchase Amount (USD), dtype: int64"
      ]
     },
     "execution_count": 17,
     "metadata": {},
     "output_type": "execute_result"
    }
   ],
   "source": [
    "df.groupby('Promo Code Used')['Purchase Amount (USD)'].count()"
   ]
  },
  {
   "cell_type": "markdown",
   "id": "9427d3af",
   "metadata": {
    "papermill": {
     "duration": 0.02354,
     "end_time": "2023-12-07T07:16:04.386390",
     "exception": false,
     "start_time": "2023-12-07T07:16:04.362850",
     "status": "completed"
    },
    "tags": []
   },
   "source": [
    "11. How does the frequency of purchases vary across different age groups?"
   ]
  },
  {
   "cell_type": "code",
   "execution_count": 18,
   "id": "c673d672",
   "metadata": {
    "execution": {
     "iopub.execute_input": "2023-12-07T07:16:04.435894Z",
     "iopub.status.busy": "2023-12-07T07:16:04.435396Z",
     "iopub.status.idle": "2023-12-07T07:16:04.908360Z",
     "shell.execute_reply": "2023-12-07T07:16:04.907393Z"
    },
    "papermill": {
     "duration": 0.501622,
     "end_time": "2023-12-07T07:16:04.910884",
     "exception": false,
     "start_time": "2023-12-07T07:16:04.409262",
     "status": "completed"
    },
    "tags": []
   },
   "outputs": [
    {
     "data": {
      "image/png": "[encoded data removed]",
      "text/plain": [
       "<Figure size 1500x1000 with 1 Axes>"
      ]
     },
     "metadata": {},
     "output_type": "display_data"
    }
   ],
   "source": [
    "plt.figure(figsize=(15,10))\n",
    "sns.countplot(data=df,x='Age_category', hue='Frequency of Purchases')\n",
    "plt.title('Frequency of purchases vary across different age groups')\n",
    "plt.xlabel('Age_category')\n",
    "plt.show()"
   ]
  },
  {
   "cell_type": "markdown",
   "id": "4b705cf1",
   "metadata": {
    "papermill": {
     "duration": 0.023309,
     "end_time": "2023-12-07T07:16:04.956175",
     "exception": false,
     "start_time": "2023-12-07T07:16:04.932866",
     "status": "completed"
    },
    "tags": []
   },
   "source": [
    "The observed trend of higher purchase frequency among the \"old\" age group can be attributed to several factors. Older individuals may have established spending patterns, greater financial stability, or specific needs that require frequent purchases. Additionally, factors such as retirement, lifestyle choices, and generational differences may contribute to the higher frequency of purchases in this age group."
   ]
  },
  {
   "cell_type": "markdown",
   "id": "37f2495c",
   "metadata": {
    "papermill": {
     "duration": 0.021649,
     "end_time": "2023-12-07T07:16:05.000065",
     "exception": false,
     "start_time": "2023-12-07T07:16:04.978416",
     "status": "completed"
    },
    "tags": []
   },
   "source": [
    "12. Are there any correlations between the size of the product and the purchase amount?"
   ]
  },
  {
   "cell_type": "code",
   "execution_count": 19,
   "id": "41baac2f",
   "metadata": {
    "execution": {
     "iopub.execute_input": "2023-12-07T07:16:05.046382Z",
     "iopub.status.busy": "2023-12-07T07:16:05.045561Z",
     "iopub.status.idle": "2023-12-07T07:16:07.273287Z",
     "shell.execute_reply": "2023-12-07T07:16:07.272180Z"
    },
    "papermill": {
     "duration": 2.254196,
     "end_time": "2023-12-07T07:16:07.276392",
     "exception": false,
     "start_time": "2023-12-07T07:16:05.022196",
     "status": "completed"
    },
    "tags": []
   },
   "outputs": [
    {
     "data": {
      "text/html": [
       "        <script type=\"text/javascript\">\n",
       "        window.PlotlyConfig = {MathJaxConfig: 'local'};\n",
       "        if (window.MathJax && window.MathJax.Hub && window.MathJax.Hub.Config) {window.MathJax.Hub.Config({SVG: {font: \"STIX-Web\"}});}\n",
       "        if (typeof require !== 'undefined') {\n",
       "        require.undef(\"plotly\");\n",
       "        requirejs.config({\n",
       "            paths: {\n",
       "                'plotly': ['https://cdn.plot.ly/plotly-2.25.2.min']\n",
       "            }\n",
       "        });\n",
       "        require(['plotly'], function(Plotly) {\n",
       "            window._Plotly = Plotly;\n",
       "        });\n",
       "        }\n",
       "        </script>\n",
       "        "
      ]
     },
     "metadata": {},
     "output_type": "display_data"
    },
    {
     "data": {
      "text/html": [
       "<div>                            <div id=\"b38bc7e7-12c3-4489-8011-50ff9df7268e\" class=\"plotly-graph-div\" style=\"height:525px; width:100%;\"></div>            <script type=\"text/javascript\">                require([\"plotly\"], function(Plotly) {                    window.PLOTLYENV=window.PLOTLYENV || {};                                    if (document.getElementById(\"b38bc7e7-12c3-4489-8011-50ff9df7268e\")) {                    Plotly.newPlot(                        \"b38bc7e7-12c3-4489-8011-50ff9df7268e\",                        [{\"alignmentgroup\":\"True\",\"hovertemplate\":\"Size=%{x}\\u003cbr\\u003ePurchase Amount (USD)=%{y}\\u003cextra\\u003e\\u003c\\u002fextra\\u003e\",\"legendgroup\":\"\",\"marker\":{\"color\":\"#636efa\",\"pattern\":{\"shape\":\"\"}},\"name\":\"\",\"offsetgroup\":\"\",\"orientation\":\"v\",\"showlegend\":false,\"textposition\":\"auto\",\"x\":[\"L\",\"L\",\"S\",\"M\",\"M\",\"M\",\"M\",\"L\",\"L\",\"M\",\"L\",\"S\",\"M\",\"M\",\"L\",\"M\",\"S\",\"XL\",\"S\",\"M\",\"M\",\"M\",\"M\",\"XL\",\"M\",\"M\",\"M\",\"L\",\"M\",\"S\",\"L\",\"L\",\"M\",\"L\",\"L\",\"M\",\"M\",\"S\",\"M\",\"S\",\"L\",\"M\",\"M\",\"L\",\"S\",\"XL\",\"L\",\"M\",\"M\",\"S\",\"M\",\"XL\",\"M\",\"S\",\"M\",\"M\",\"XL\",\"M\",\"M\",\"L\",\"L\",\"M\",\"S\",\"L\",\"S\",\"M\",\"S\",\"L\",\"L\",\"S\",\"M\",\"L\",\"M\",\"M\",\"L\",\"M\",\"S\",\"L\",\"M\",\"M\",\"XL\",\"L\",\"S\",\"M\",\"S\",\"M\",\"L\",\"M\",\"M\",\"XL\",\"L\",\"S\",\"M\",\"M\",\"S\",\"L\",\"S\",\"M\",\"XL\",\"XL\",\"M\",\"XL\",\"L\",\"L\",\"L\",\"M\",\"L\",\"L\",\"L\",\"M\",\"M\",\"L\",\"M\",\"L\",\"S\",\"M\",\"S\",\"L\",\"L\",\"M\",\"L\",\"M\",\"L\",\"L\",\"M\",\"M\",\"L\",\"M\",\"M\",\"XL\",\"L\",\"L\",\"M\",\"M\",\"L\",\"M\",\"M\",\"M\",\"M\",\"M\",\"L\",\"M\",\"L\",\"M\",\"M\",\"M\",\"S\",\"M\",\"M\",\"M\",\"L\",\"L\",\"S\",\"M\",\"M\",\"S\",\"M\",\"S\",\"XL\",\"M\",\"M\",\"M\",\"M\",\"M\",\"S\",\"S\",\"XL\",\"M\",\"M\",\"S\",\"M\",\"M\",\"M\",\"M\",\"L\",\"L\",\"L\",\"L\",\"L\",\"M\",\"L\",\"M\",\"XL\",\"XL\",\"L\",\"XL\",\"S\",\"S\",\"M\",\"M\",\"XL\",\"M\",\"L\",\"S\",\"M\",\"M\",\"M\",\"M\",\"M\",\"XL\",\"S\",\"S\",\"L\",\"S\",\"M\",\"M\",\"L\",\"M\",\"M\",\"S\",\"L\",\"L\",\"L\",\"L\",\"L\",\"S\",\"L\",\"M\",\"S\",\"M\",\"S\",\"XL\",\"XL\",\"M\",\"S\",\"M\",\"L\",\"M\",\"M\",\"S\",\"L\",\"M\",\"L\",\"XL\",\"S\",\"M\",\"L\",\"M\",\"M\",\"L\",\"XL\",\"M\",\"L\",\"M\",\"S\",\"L\",\"XL\",\"XL\",\"M\",\"S\",\"L\",\"XL\",\"M\",\"L\",\"M\",\"M\",\"XL\",\"M\",\"S\",\"M\",\"S\",\"L\",\"M\",\"M\",\"S\",\"M\",\"L\",\"M\",\"M\",\"M\",\"XL\",\"XL\",\"M\",\"S\",\"M\",\"XL\",\"XL\",\"M\",\"M\",\"L\",\"S\",\"XL\",\"M\",\"S\",\"M\",\"XL\",\"L\",\"L\",\"M\",\"M\",\"M\",\"XL\",\"M\",\"M\",\"M\",\"M\",\"S\",\"XL\",\"M\",\"M\",\"M\",\"M\",\"L\",\"M\",\"M\",\"M\",\"S\",\"M\",\"M\",\"M\",\"M\",\"L\",\"L\",\"M\",\"M\",\"XL\",\"M\",\"L\",\"M\",\"XL\",\"L\",\"L\",\"S\",\"M\",\"M\",\"M\",\"M\",\"M\",\"M\",\"S\",\"M\",\"L\",\"M\",\"M\",\"M\",\"L\",\"S\",\"M\",\"M\",\"M\",\"L\",\"S\",\"M\",\"M\",\"M\",\"S\",\"L\",\"L\",\"M\",\"M\",\"M\",\"M\",\"XL\",\"L\",\"S\",\"XL\",\"L\",\"M\",\"XL\",\"M\",\"M\",\"M\",\"M\",\"L\",\"L\",\"XL\",\"M\",\"XL\",\"M\",\"M\",\"M\",\"S\",\"L\",\"L\",\"S\",\"M\",\"S\",\"M\",\"L\",\"S\",\"XL\",\"L\",\"M\",\"S\",\"M\",\"S\",\"L\",\"L\",\"M\",\"L\",\"M\",\"L\",\"XL\",\"L\",\"M\",\"L\",\"S\",\"M\",\"S\",\"L\",\"M\",\"L\",\"L\",\"M\",\"M\",\"S\",\"M\",\"XL\",\"L\",\"M\",\"L\",\"M\",\"M\",\"S\",\"L\",\"M\",\"L\",\"L\",\"L\",\"S\",\"S\",\"M\",\"M\",\"L\",\"M\",\"S\",\"M\",\"L\",\"XL\",\"M\",\"M\",\"L\",\"S\",\"M\",\"L\",\"XL\",\"L\",\"M\",\"M\",\"M\",\"XL\",\"M\",\"M\",\"M\",\"M\",\"M\",\"M\",\"S\",\"M\",\"L\",\"L\",\"M\",\"M\",\"XL\",\"S\",\"XL\",\"S\",\"M\",\"L\",\"L\",\"L\",\"M\",\"M\",\"S\",\"M\",\"M\",\"L\",\"S\",\"S\",\"L\",\"L\",\"XL\",\"L\",\"L\",\"XL\",\"L\",\"M\",\"M\",\"XL\",\"L\",\"M\",\"L\",\"M\",\"M\",\"L\",\"S\",\"M\",\"L\",\"L\",\"M\",\"M\",\"M\",\"M\",\"XL\",\"M\",\"XL\",\"S\",\"S\",\"M\",\"L\",\"L\",\"M\",\"S\",\"M\",\"M\",\"L\",\"M\",\"M\",\"S\",\"L\",\"M\",\"L\",\"L\",\"M\",\"S\",\"L\",\"L\",\"L\",\"M\",\"L\",\"M\",\"L\",\"M\",\"M\",\"M\",\"M\",\"S\",\"L\",\"S\",\"M\",\"XL\",\"L\",\"L\",\"L\",\"L\",\"L\",\"S\",\"S\",\"XL\",\"M\",\"M\",\"L\",\"XL\",\"S\",\"S\",\"L\",\"M\",\"M\",\"M\",\"S\",\"M\",\"XL\",\"M\",\"M\",\"M\",\"M\",\"L\",\"M\",\"L\",\"M\",\"L\",\"M\",\"M\",\"M\",\"M\",\"L\",\"M\",\"S\",\"L\",\"M\",\"XL\",\"XL\",\"XL\",\"M\",\"L\",\"M\",\"M\",\"M\",\"M\",\"M\",\"M\",\"XL\",\"L\",\"L\",\"M\",\"M\",\"S\",\"S\",\"M\",\"M\",\"S\",\"L\",\"M\",\"S\",\"S\",\"M\",\"XL\",\"L\",\"L\",\"L\",\"M\",\"M\",\"L\",\"L\",\"S\",\"XL\",\"M\",\"L\",\"S\",\"L\",\"M\",\"M\",\"L\",\"L\",\"M\",\"L\",\"L\",\"M\",\"L\",\"M\",\"M\",\"S\",\"S\",\"M\",\"XL\",\"M\",\"M\",\"L\",\"M\",\"L\",\"S\",\"S\",\"M\",\"M\",\"M\",\"M\",\"M\",\"M\",\"S\",\"L\",\"M\",\"M\",\"L\",\"XL\",\"S\",\"S\",\"XL\",\"XL\",\"M\",\"L\",\"M\",\"L\",\"M\",\"M\",\"L\",\"S\",\"M\",\"M\",\"S\",\"S\",\"M\",\"XL\",\"L\",\"M\",\"M\",\"M\",\"L\",\"S\",\"S\",\"M\",\"XL\",\"L\",\"M\",\"M\",\"XL\",\"M\",\"M\",\"S\",\"M\",\"M\",\"M\",\"XL\",\"M\",\"S\",\"M\",\"XL\",\"L\",\"XL\",\"S\",\"M\",\"XL\",\"L\",\"M\",\"L\",\"S\",\"XL\",\"L\",\"XL\",\"M\",\"M\",\"L\",\"L\",\"M\",\"L\",\"S\",\"XL\",\"L\",\"L\",\"L\",\"L\",\"L\",\"M\",\"XL\",\"M\",\"M\",\"L\",\"M\",\"L\",\"M\",\"L\",\"L\",\"L\",\"S\",\"L\",\"XL\",\"L\",\"L\",\"S\",\"M\",\"L\",\"M\",\"M\",\"L\",\"L\",\"S\",\"M\",\"L\",\"M\",\"L\",\"S\",\"M\",\"XL\",\"M\",\"L\",\"S\",\"L\",\"M\",\"L\",\"L\",\"M\",\"L\",\"L\",\"L\",\"M\",\"L\",\"M\",\"S\",\"M\",\"L\",\"XL\",\"XL\",\"L\",\"M\",\"M\",\"XL\",\"M\",\"M\",\"M\",\"XL\",\"M\",\"M\",\"L\",\"L\",\"L\",\"M\",\"S\",\"M\",\"XL\",\"M\",\"M\",\"M\",\"L\",\"M\",\"L\",\"M\",\"S\",\"S\",\"S\",\"XL\",\"S\",\"M\",\"S\",\"M\",\"L\",\"XL\",\"M\",\"XL\",\"M\",\"M\",\"L\",\"S\",\"L\",\"M\",\"L\",\"M\",\"L\",\"L\",\"S\",\"L\",\"M\",\"S\",\"M\",\"M\",\"S\",\"M\",\"L\",\"L\",\"S\",\"M\",\"S\",\"M\",\"M\",\"L\",\"M\",\"M\",\"XL\",\"M\",\"S\",\"M\",\"S\",\"M\",\"M\",\"L\",\"M\",\"M\",\"L\",\"L\",\"L\",\"M\",\"L\",\"L\",\"M\",\"M\",\"S\",\"L\",\"XL\",\"M\",\"L\",\"M\",\"S\",\"L\",\"M\",\"L\",\"L\",\"L\",\"L\",\"M\",\"L\",\"L\",\"M\",\"M\",\"XL\",\"M\",\"M\",\"S\",\"L\",\"M\",\"M\",\"M\",\"M\",\"M\",\"M\",\"M\",\"M\",\"M\",\"L\",\"L\",\"M\",\"S\",\"S\",\"L\",\"M\",\"M\",\"S\",\"L\",\"L\",\"S\",\"L\",\"S\",\"S\",\"S\",\"S\",\"L\",\"M\",\"L\",\"XL\",\"M\",\"M\",\"L\",\"M\",\"L\",\"L\",\"M\",\"M\",\"L\",\"S\",\"M\",\"L\",\"M\",\"L\",\"S\",\"M\",\"M\",\"M\",\"L\",\"L\",\"S\",\"M\",\"M\",\"L\",\"XL\",\"L\",\"M\",\"M\",\"XL\",\"L\",\"XL\",\"L\",\"XL\",\"M\",\"L\",\"M\",\"L\",\"M\",\"S\",\"L\",\"M\",\"M\",\"S\",\"L\",\"S\",\"L\",\"M\",\"L\",\"S\",\"M\",\"XL\",\"M\",\"L\",\"M\",\"XL\",\"M\",\"S\",\"S\",\"S\",\"L\",\"XL\",\"XL\",\"XL\",\"M\",\"XL\",\"L\",\"L\",\"L\",\"M\",\"L\",\"M\",\"S\",\"L\",\"S\",\"S\",\"M\",\"L\",\"M\",\"M\",\"M\",\"M\",\"M\",\"M\",\"S\",\"S\",\"M\",\"S\",\"L\",\"M\",\"M\",\"S\",\"M\",\"M\",\"M\",\"S\",\"XL\",\"M\",\"M\",\"L\",\"M\",\"L\",\"M\",\"M\",\"L\",\"M\",\"M\",\"M\",\"M\",\"M\",\"M\",\"S\",\"XL\",\"M\",\"M\",\"XL\",\"L\",\"L\",\"XL\",\"M\",\"M\",\"XL\",\"L\",\"XL\",\"S\",\"M\",\"S\",\"M\",\"S\",\"M\",\"M\",\"L\",\"L\",\"S\",\"M\",\"L\",\"M\",\"M\",\"S\",\"M\",\"M\",\"M\",\"XL\",\"XL\",\"M\",\"S\",\"M\",\"M\",\"M\",\"L\",\"L\",\"M\",\"S\",\"L\",\"S\",\"M\",\"M\",\"XL\",\"M\",\"L\",\"M\",\"L\",\"S\",\"L\",\"M\",\"S\",\"M\",\"M\",\"S\",\"M\",\"XL\",\"M\",\"S\",\"M\",\"XL\",\"M\",\"M\",\"L\",\"XL\",\"S\",\"L\",\"L\",\"M\",\"M\",\"S\",\"L\",\"XL\",\"XL\",\"L\",\"S\",\"M\",\"M\",\"S\",\"M\",\"M\",\"M\",\"L\",\"L\",\"S\",\"M\",\"S\",\"S\",\"M\",\"S\",\"M\",\"L\",\"XL\",\"M\",\"S\",\"M\",\"S\",\"L\",\"M\",\"M\",\"L\",\"L\",\"S\",\"XL\",\"M\",\"L\",\"S\",\"M\",\"L\",\"M\",\"M\",\"M\",\"XL\",\"S\",\"S\",\"M\",\"M\",\"L\",\"XL\",\"L\",\"XL\",\"M\",\"M\",\"S\",\"XL\",\"M\",\"L\",\"S\",\"XL\",\"M\",\"L\",\"M\",\"S\",\"L\",\"L\",\"S\",\"L\",\"M\",\"XL\",\"M\",\"L\",\"S\",\"M\",\"M\",\"M\",\"L\",\"S\",\"M\",\"M\",\"L\",\"L\",\"S\",\"S\",\"M\",\"L\",\"M\",\"M\",\"S\",\"XL\",\"L\",\"S\",\"S\",\"M\",\"L\",\"M\",\"M\",\"M\",\"M\",\"M\",\"M\",\"M\",\"S\",\"L\",\"M\",\"M\",\"S\",\"M\",\"M\",\"L\",\"M\",\"XL\",\"M\",\"L\",\"M\",\"L\",\"S\",\"M\",\"M\",\"L\",\"M\",\"M\",\"XL\",\"XL\",\"S\",\"M\",\"M\",\"M\",\"S\",\"M\",\"S\",\"M\",\"M\",\"M\",\"M\",\"XL\",\"M\",\"L\",\"XL\",\"XL\",\"M\",\"M\",\"M\",\"M\",\"L\",\"L\",\"M\",\"S\",\"S\",\"L\",\"S\",\"XL\",\"L\",\"M\",\"M\",\"L\",\"M\",\"M\",\"M\",\"S\",\"M\",\"XL\",\"L\",\"XL\",\"M\",\"S\",\"S\",\"M\",\"M\",\"M\",\"XL\",\"M\",\"XL\",\"XL\",\"L\",\"XL\",\"XL\",\"M\",\"S\",\"L\",\"XL\",\"M\",\"XL\",\"L\",\"L\",\"L\",\"S\",\"M\",\"M\",\"S\",\"XL\",\"M\",\"M\",\"S\",\"M\",\"L\",\"M\",\"S\",\"L\",\"L\",\"M\",\"L\",\"L\",\"M\",\"L\",\"M\",\"M\",\"M\",\"L\",\"XL\",\"XL\",\"M\",\"M\",\"S\",\"M\",\"XL\",\"M\",\"M\",\"S\",\"M\",\"S\",\"L\",\"M\",\"M\",\"M\",\"L\",\"S\",\"XL\",\"L\",\"L\",\"L\",\"L\",\"L\",\"M\",\"M\",\"M\",\"S\",\"L\",\"S\",\"M\",\"M\",\"M\",\"XL\",\"L\",\"M\",\"M\",\"S\",\"L\",\"M\",\"M\",\"M\",\"M\",\"M\",\"M\",\"S\",\"M\",\"S\",\"M\",\"M\",\"L\",\"S\",\"L\",\"M\",\"XL\",\"XL\",\"M\",\"S\",\"M\",\"L\",\"M\",\"XL\",\"XL\",\"M\",\"L\",\"XL\",\"M\",\"M\",\"M\",\"M\",\"S\",\"XL\",\"S\",\"L\",\"M\",\"M\",\"L\",\"L\",\"M\",\"M\",\"S\",\"L\",\"M\",\"L\",\"M\",\"M\",\"L\",\"M\",\"L\",\"L\",\"L\",\"XL\",\"L\",\"S\",\"L\",\"L\",\"M\",\"M\",\"M\",\"M\",\"M\",\"M\",\"L\",\"M\",\"S\",\"M\",\"L\",\"L\",\"L\",\"XL\",\"S\",\"M\",\"M\",\"M\",\"M\",\"L\",\"M\",\"M\",\"M\",\"L\",\"XL\",\"M\",\"M\",\"M\",\"L\",\"M\",\"S\",\"M\",\"M\",\"L\",\"S\",\"M\",\"M\",\"XL\",\"S\",\"L\",\"S\",\"S\",\"S\",\"M\",\"S\",\"S\",\"L\",\"S\",\"M\",\"L\",\"L\",\"L\",\"XL\",\"M\",\"XL\",\"M\",\"M\",\"M\",\"S\",\"S\",\"L\",\"L\",\"M\",\"XL\",\"S\",\"M\",\"L\",\"S\",\"M\",\"L\",\"S\",\"L\",\"L\",\"S\",\"S\",\"M\",\"L\",\"L\",\"S\",\"S\",\"M\",\"M\",\"XL\",\"M\",\"XL\",\"S\",\"M\",\"M\",\"S\",\"L\",\"M\",\"S\",\"M\",\"M\",\"XL\",\"M\",\"L\",\"M\",\"S\",\"S\",\"S\",\"M\",\"L\",\"S\",\"L\",\"L\",\"XL\",\"L\",\"S\",\"M\",\"S\",\"M\",\"M\",\"M\",\"S\",\"M\",\"S\",\"L\",\"XL\",\"M\",\"M\",\"M\",\"M\",\"L\",\"S\",\"L\",\"XL\",\"XL\",\"M\",\"L\",\"M\",\"L\",\"S\",\"L\",\"M\",\"M\",\"L\",\"M\",\"M\",\"L\",\"M\",\"L\",\"M\",\"L\",\"L\",\"S\",\"M\",\"M\",\"S\",\"S\",\"M\",\"M\",\"S\",\"M\",\"L\",\"L\",\"M\",\"M\",\"S\",\"M\",\"M\",\"M\",\"M\",\"XL\",\"L\",\"M\",\"M\",\"S\",\"M\",\"L\",\"M\",\"S\",\"S\",\"M\",\"L\",\"XL\",\"L\",\"M\",\"M\",\"M\",\"M\",\"XL\",\"L\",\"S\",\"M\",\"L\",\"M\",\"L\",\"L\",\"L\",\"L\",\"S\",\"M\",\"M\",\"S\",\"S\",\"M\",\"L\",\"L\",\"L\",\"XL\",\"S\",\"M\",\"M\",\"M\",\"L\",\"M\",\"S\",\"L\",\"M\",\"M\",\"XL\",\"S\",\"S\",\"XL\",\"M\",\"M\",\"S\",\"XL\",\"S\",\"L\",\"M\",\"M\",\"S\",\"S\",\"XL\",\"S\",\"L\",\"L\",\"M\",\"S\",\"S\",\"M\",\"M\",\"M\",\"L\",\"L\",\"M\",\"L\",\"S\",\"M\",\"M\",\"L\",\"L\",\"M\",\"S\",\"S\",\"M\",\"L\",\"S\",\"M\",\"S\",\"L\",\"L\",\"M\",\"M\",\"L\",\"S\",\"L\",\"M\",\"L\",\"S\",\"L\",\"S\",\"M\",\"M\",\"M\",\"M\",\"M\",\"M\",\"L\",\"L\",\"L\",\"L\",\"L\",\"S\",\"M\",\"L\",\"S\",\"M\",\"XL\",\"M\",\"L\",\"M\",\"L\",\"L\",\"L\",\"L\",\"M\",\"L\",\"M\",\"M\",\"M\",\"M\",\"L\",\"S\",\"S\",\"M\",\"L\",\"M\",\"S\",\"M\",\"M\",\"L\",\"S\",\"S\",\"L\",\"M\",\"L\",\"M\",\"XL\",\"M\",\"S\",\"S\",\"L\",\"XL\",\"L\",\"L\",\"XL\",\"XL\",\"M\",\"M\",\"L\",\"M\",\"L\",\"L\",\"M\",\"XL\",\"M\",\"S\",\"M\",\"S\",\"XL\",\"M\",\"L\",\"L\",\"M\",\"S\",\"S\",\"L\",\"XL\",\"S\",\"M\",\"S\",\"S\",\"L\",\"M\",\"S\",\"M\",\"S\",\"L\",\"L\",\"M\",\"M\",\"L\",\"M\",\"L\",\"L\",\"XL\",\"XL\",\"XL\",\"L\",\"L\",\"L\",\"M\",\"L\",\"L\",\"M\",\"M\",\"L\",\"L\",\"S\",\"XL\",\"S\",\"L\",\"M\",\"L\",\"XL\",\"S\",\"M\",\"M\",\"M\",\"M\",\"S\",\"L\",\"M\",\"L\",\"M\",\"XL\",\"M\",\"M\",\"M\",\"M\",\"L\",\"L\",\"M\",\"M\",\"S\",\"M\",\"M\",\"L\",\"L\",\"S\",\"M\",\"L\",\"L\",\"L\",\"S\",\"S\",\"M\",\"S\",\"L\",\"S\",\"S\",\"L\",\"L\",\"M\",\"XL\",\"M\",\"L\",\"S\",\"L\",\"L\",\"M\",\"L\",\"M\",\"S\",\"M\",\"L\",\"S\",\"M\",\"M\",\"L\",\"M\",\"M\",\"M\",\"S\",\"XL\",\"M\",\"S\",\"L\",\"XL\",\"M\",\"M\",\"S\",\"L\",\"M\",\"M\",\"M\",\"M\",\"M\",\"M\",\"M\",\"M\",\"M\",\"L\",\"XL\",\"M\",\"L\",\"M\",\"M\",\"M\",\"M\",\"M\",\"XL\",\"XL\",\"M\",\"S\",\"S\",\"XL\",\"XL\",\"M\",\"XL\",\"XL\",\"L\",\"S\",\"L\",\"M\",\"S\",\"M\",\"L\",\"S\",\"S\",\"XL\",\"M\",\"M\",\"S\",\"L\",\"XL\",\"M\",\"XL\",\"L\",\"M\",\"M\",\"L\",\"L\",\"L\",\"L\",\"M\",\"L\",\"M\",\"S\",\"S\",\"L\",\"XL\",\"XL\",\"L\",\"M\",\"M\",\"M\",\"L\",\"M\",\"L\",\"M\",\"L\",\"L\",\"L\",\"S\",\"S\",\"S\",\"M\",\"S\",\"M\",\"M\",\"L\",\"XL\",\"S\",\"S\",\"M\",\"S\",\"M\",\"L\",\"M\",\"S\",\"L\",\"S\",\"M\",\"M\",\"M\",\"S\",\"XL\",\"M\",\"L\",\"M\",\"M\",\"S\",\"L\",\"L\",\"S\",\"M\",\"L\",\"L\",\"XL\",\"S\",\"M\",\"L\",\"L\",\"L\",\"XL\",\"M\",\"L\",\"M\",\"M\",\"M\",\"M\",\"L\",\"L\",\"L\",\"L\",\"L\",\"XL\",\"M\",\"M\",\"M\",\"M\",\"M\",\"M\",\"L\",\"L\",\"M\",\"L\",\"S\",\"M\",\"XL\",\"L\",\"S\",\"S\",\"M\",\"XL\",\"M\",\"XL\",\"M\",\"L\",\"M\",\"M\",\"L\",\"L\",\"M\",\"L\",\"M\",\"M\",\"M\",\"M\",\"L\",\"XL\",\"M\",\"S\",\"L\",\"M\",\"L\",\"S\",\"M\",\"S\",\"L\",\"M\",\"M\",\"L\",\"M\",\"S\",\"M\",\"S\",\"L\",\"M\",\"S\",\"M\",\"M\",\"M\",\"M\",\"M\",\"L\",\"M\",\"L\",\"S\",\"S\",\"S\",\"S\",\"S\",\"M\",\"M\",\"S\",\"S\",\"L\",\"M\",\"M\",\"S\",\"XL\",\"M\",\"S\",\"L\",\"M\",\"L\",\"M\",\"S\",\"S\",\"S\",\"L\",\"M\",\"XL\",\"S\",\"M\",\"M\",\"L\",\"M\",\"M\",\"M\",\"XL\",\"L\",\"M\",\"L\",\"M\",\"S\",\"XL\",\"M\",\"L\",\"L\",\"M\",\"XL\",\"M\",\"S\",\"L\",\"M\",\"M\",\"M\",\"M\",\"XL\",\"XL\",\"M\",\"XL\",\"S\",\"M\",\"S\",\"M\",\"S\",\"S\",\"L\",\"M\",\"L\",\"S\",\"S\",\"M\",\"L\",\"S\",\"M\",\"L\",\"M\",\"L\",\"L\",\"S\",\"XL\",\"M\",\"M\",\"M\",\"M\",\"L\",\"S\",\"M\",\"L\",\"M\",\"M\",\"M\",\"S\",\"M\",\"M\",\"M\",\"M\",\"XL\",\"L\",\"L\",\"XL\",\"M\",\"M\",\"M\",\"M\",\"M\",\"L\",\"M\",\"M\",\"S\",\"M\",\"L\",\"L\",\"M\",\"M\",\"XL\",\"M\",\"L\",\"L\",\"L\",\"M\",\"M\",\"M\",\"XL\",\"S\",\"M\",\"XL\",\"M\",\"M\",\"M\",\"M\",\"M\",\"L\",\"L\",\"S\",\"XL\",\"S\",\"XL\",\"L\",\"M\",\"L\",\"L\",\"M\",\"M\",\"L\",\"M\",\"L\",\"XL\",\"M\",\"L\",\"S\",\"S\",\"L\",\"S\",\"M\",\"S\",\"L\",\"M\",\"M\",\"M\",\"M\",\"S\",\"S\",\"S\",\"M\",\"S\",\"XL\",\"M\",\"L\",\"M\",\"M\",\"M\",\"M\",\"S\",\"M\",\"XL\",\"M\",\"M\",\"XL\",\"S\",\"S\",\"L\",\"L\",\"M\",\"M\",\"M\",\"M\",\"L\",\"M\",\"L\",\"L\",\"M\",\"M\",\"S\",\"XL\",\"L\",\"M\",\"XL\",\"XL\",\"M\",\"L\",\"M\",\"M\",\"L\",\"M\",\"XL\",\"XL\",\"M\",\"S\",\"XL\",\"XL\",\"M\",\"M\",\"L\",\"S\",\"L\",\"S\",\"M\",\"M\",\"S\",\"M\",\"L\",\"XL\",\"S\",\"M\",\"M\",\"S\",\"L\",\"L\",\"L\",\"M\",\"M\",\"M\",\"M\",\"L\",\"M\",\"L\",\"M\",\"XL\",\"L\",\"L\",\"S\",\"M\",\"M\",\"L\",\"M\",\"L\",\"L\",\"XL\",\"M\",\"L\",\"M\",\"XL\",\"M\",\"XL\",\"M\",\"S\",\"L\",\"M\",\"L\",\"M\",\"L\",\"L\",\"L\",\"M\",\"L\",\"M\",\"M\",\"L\",\"M\",\"XL\",\"S\",\"S\",\"XL\",\"L\",\"L\",\"L\",\"M\",\"M\",\"L\",\"M\",\"S\",\"L\",\"M\",\"L\",\"M\",\"M\",\"L\",\"M\",\"XL\",\"L\",\"L\",\"S\",\"L\",\"M\",\"L\",\"L\",\"M\",\"S\",\"M\",\"L\",\"L\",\"M\",\"XL\",\"M\",\"L\",\"M\",\"L\",\"XL\",\"M\",\"M\",\"S\",\"L\",\"L\",\"M\",\"L\",\"M\",\"M\",\"S\",\"L\",\"S\",\"XL\",\"M\",\"L\",\"M\",\"M\",\"S\",\"S\",\"L\",\"M\",\"L\",\"M\",\"M\",\"XL\",\"S\",\"L\",\"S\",\"M\",\"M\",\"M\",\"S\",\"M\",\"M\",\"M\",\"S\",\"M\",\"L\",\"L\",\"S\",\"L\",\"M\",\"M\",\"XL\",\"L\",\"S\",\"L\",\"L\",\"M\",\"M\",\"M\",\"M\",\"XL\",\"M\",\"L\",\"L\",\"XL\",\"L\",\"L\",\"M\",\"M\",\"M\",\"M\",\"L\",\"L\",\"M\",\"L\",\"M\",\"M\",\"M\",\"XL\",\"M\",\"L\",\"M\",\"L\",\"M\",\"M\",\"L\",\"M\",\"L\",\"M\",\"M\",\"M\",\"M\",\"L\",\"XL\",\"M\",\"M\",\"XL\",\"L\",\"M\",\"M\",\"M\",\"XL\",\"M\",\"XL\",\"S\",\"M\",\"S\",\"M\",\"S\",\"L\",\"M\",\"M\",\"M\",\"S\",\"M\",\"M\",\"M\",\"XL\",\"XL\",\"S\",\"M\",\"M\",\"M\",\"S\",\"M\",\"XL\",\"S\",\"M\",\"M\",\"M\",\"L\",\"M\",\"S\",\"M\",\"L\",\"L\",\"S\",\"S\",\"M\",\"M\",\"L\",\"XL\",\"M\",\"L\",\"M\",\"M\",\"L\",\"L\",\"S\",\"L\",\"XL\",\"XL\",\"L\",\"M\",\"S\",\"M\",\"L\",\"M\",\"XL\",\"M\",\"M\",\"M\",\"M\",\"S\",\"M\",\"L\",\"S\",\"S\",\"XL\",\"XL\",\"S\",\"S\",\"M\",\"M\",\"L\",\"L\",\"XL\",\"M\",\"M\",\"M\",\"S\",\"S\",\"S\",\"XL\",\"S\",\"M\",\"S\",\"L\",\"M\",\"M\",\"L\",\"M\",\"M\",\"M\",\"XL\",\"M\",\"XL\",\"M\",\"L\",\"M\",\"M\",\"L\",\"L\",\"M\",\"XL\",\"L\",\"XL\",\"L\",\"L\",\"M\",\"S\",\"S\",\"M\",\"M\",\"S\",\"M\",\"S\",\"M\",\"S\",\"M\",\"S\",\"S\",\"XL\",\"S\",\"L\",\"M\",\"M\",\"M\",\"M\",\"M\",\"M\",\"L\",\"M\",\"L\",\"L\",\"M\",\"L\",\"M\",\"XL\",\"M\",\"XL\",\"M\",\"M\",\"M\",\"XL\",\"L\",\"M\",\"S\",\"M\",\"L\",\"XL\",\"XL\",\"L\",\"S\",\"S\",\"XL\",\"XL\",\"M\",\"XL\",\"L\",\"M\",\"M\",\"M\",\"M\",\"M\",\"L\",\"M\",\"M\",\"S\",\"M\",\"S\",\"M\",\"L\",\"L\",\"L\",\"M\",\"M\",\"M\",\"M\",\"S\",\"XL\",\"S\",\"L\",\"XL\",\"L\",\"XL\",\"XL\",\"M\",\"M\",\"L\",\"M\",\"M\",\"M\",\"M\",\"L\",\"XL\",\"L\",\"M\",\"M\",\"L\",\"M\",\"M\",\"M\",\"M\",\"XL\",\"S\",\"L\",\"L\",\"S\",\"M\",\"M\",\"M\",\"M\",\"L\",\"XL\",\"L\",\"M\",\"M\",\"S\",\"S\",\"M\",\"M\",\"S\",\"XL\",\"S\",\"M\",\"S\",\"XL\",\"L\",\"XL\",\"L\",\"S\",\"M\",\"L\",\"S\",\"M\",\"M\",\"M\",\"L\",\"M\",\"L\",\"L\",\"S\",\"M\",\"L\",\"M\",\"XL\",\"L\",\"L\",\"XL\",\"M\",\"L\",\"L\",\"L\",\"S\",\"M\",\"M\",\"L\",\"M\",\"XL\",\"M\",\"M\",\"S\",\"M\",\"M\",\"L\",\"M\",\"S\",\"L\",\"L\",\"L\",\"M\",\"M\",\"M\",\"M\",\"M\",\"XL\",\"M\",\"L\",\"L\",\"XL\",\"L\",\"M\",\"M\",\"M\",\"L\",\"M\",\"M\",\"XL\",\"L\",\"L\",\"XL\",\"L\",\"S\",\"S\",\"M\",\"M\",\"S\",\"L\",\"L\",\"L\",\"M\",\"S\",\"XL\",\"L\",\"XL\",\"M\",\"S\",\"M\",\"S\",\"M\",\"XL\",\"M\",\"S\",\"L\",\"L\",\"M\",\"S\",\"M\",\"M\",\"L\",\"M\",\"XL\",\"M\",\"M\",\"S\",\"M\",\"XL\",\"M\",\"L\",\"M\",\"S\",\"M\",\"M\",\"M\",\"M\",\"L\",\"M\",\"L\",\"S\",\"S\",\"M\",\"L\",\"M\",\"L\",\"XL\",\"M\",\"M\",\"S\",\"M\",\"M\",\"M\",\"XL\",\"M\",\"M\",\"M\",\"M\",\"L\",\"S\",\"S\",\"L\",\"S\",\"L\",\"L\",\"L\",\"M\",\"L\",\"L\",\"M\",\"M\",\"S\",\"M\",\"M\",\"S\",\"M\",\"XL\",\"M\",\"L\",\"M\",\"M\",\"L\",\"M\",\"M\",\"M\",\"M\",\"M\",\"XL\",\"L\",\"L\",\"M\",\"L\",\"M\",\"M\",\"S\",\"L\",\"M\",\"M\",\"XL\",\"M\",\"M\",\"XL\",\"S\",\"L\",\"L\",\"M\",\"XL\",\"M\",\"L\",\"L\",\"L\",\"S\",\"M\",\"M\",\"M\",\"L\",\"M\",\"L\",\"XL\",\"L\",\"L\",\"M\",\"M\",\"M\",\"S\",\"M\",\"M\",\"M\",\"L\",\"L\",\"XL\",\"L\",\"M\",\"M\",\"L\",\"XL\",\"L\",\"L\",\"M\",\"M\",\"L\",\"M\",\"M\",\"M\",\"S\",\"M\",\"S\",\"L\",\"L\",\"M\",\"M\",\"S\",\"M\",\"S\",\"M\",\"S\",\"L\",\"M\",\"M\",\"M\",\"S\",\"L\",\"M\",\"L\",\"M\",\"M\",\"M\",\"L\",\"XL\",\"L\",\"M\",\"L\",\"XL\",\"M\",\"M\",\"L\",\"L\",\"L\",\"M\",\"M\",\"XL\",\"M\",\"S\",\"S\",\"L\",\"M\",\"L\",\"XL\",\"M\",\"XL\",\"L\",\"S\",\"S\",\"M\",\"L\",\"M\",\"XL\",\"M\",\"M\",\"M\",\"XL\",\"M\",\"L\",\"M\",\"M\",\"M\",\"XL\",\"S\",\"L\",\"XL\",\"M\",\"L\",\"M\",\"L\",\"M\",\"M\",\"M\",\"L\",\"XL\",\"M\",\"M\",\"L\",\"M\",\"M\",\"XL\",\"M\",\"M\",\"M\",\"M\",\"L\",\"L\",\"M\",\"M\",\"XL\",\"M\",\"L\",\"L\",\"M\",\"M\",\"S\",\"L\",\"M\",\"M\",\"M\",\"M\",\"M\",\"S\",\"M\",\"L\",\"S\",\"S\",\"L\",\"M\",\"S\",\"M\",\"L\",\"L\",\"S\",\"S\",\"M\",\"L\",\"S\",\"M\",\"XL\",\"XL\",\"M\",\"L\",\"S\",\"L\",\"L\",\"L\",\"M\",\"M\",\"L\",\"S\",\"S\",\"L\",\"S\",\"XL\",\"M\",\"L\",\"M\",\"L\",\"S\",\"M\",\"M\",\"S\",\"M\",\"S\",\"M\",\"L\",\"M\",\"M\",\"M\",\"XL\",\"M\",\"L\",\"M\",\"M\",\"M\",\"S\",\"M\",\"L\",\"M\",\"XL\",\"L\",\"S\",\"M\",\"M\",\"S\",\"S\",\"M\",\"M\",\"S\",\"XL\",\"L\",\"XL\",\"L\",\"M\",\"XL\",\"L\",\"XL\",\"L\",\"L\",\"M\",\"S\",\"L\",\"M\",\"L\",\"M\",\"M\",\"L\",\"S\",\"M\",\"L\",\"M\",\"M\",\"M\",\"L\",\"S\",\"L\",\"XL\",\"L\",\"S\",\"M\",\"M\",\"M\",\"S\",\"L\",\"S\",\"L\",\"L\",\"L\",\"S\",\"M\",\"L\",\"S\",\"M\",\"L\",\"XL\",\"L\",\"L\",\"L\",\"L\",\"XL\",\"M\",\"S\",\"M\",\"M\",\"L\",\"L\",\"M\",\"S\",\"S\",\"L\",\"M\",\"M\",\"M\",\"L\",\"M\",\"L\",\"L\",\"L\",\"M\",\"S\",\"L\",\"M\",\"L\",\"S\",\"L\",\"S\",\"M\",\"S\",\"S\",\"M\",\"M\",\"L\",\"M\",\"M\",\"L\",\"XL\",\"S\",\"L\",\"M\",\"M\",\"L\",\"M\",\"L\",\"XL\",\"M\",\"L\",\"M\",\"XL\",\"M\",\"L\",\"L\",\"M\",\"S\",\"S\",\"M\",\"M\",\"M\",\"M\",\"L\",\"L\",\"M\",\"M\",\"L\",\"M\",\"XL\",\"S\",\"L\",\"M\",\"L\",\"XL\",\"S\",\"M\",\"L\",\"M\",\"M\",\"L\",\"M\",\"L\",\"M\",\"M\",\"M\",\"L\",\"M\",\"L\",\"XL\",\"S\",\"L\",\"XL\",\"L\",\"M\",\"M\",\"M\",\"M\",\"M\",\"XL\",\"M\",\"M\",\"L\",\"L\",\"M\",\"XL\",\"L\",\"L\",\"M\",\"L\",\"M\",\"L\",\"M\",\"L\",\"L\",\"S\",\"L\",\"M\",\"M\",\"S\",\"XL\",\"S\",\"L\",\"L\",\"S\",\"L\",\"M\",\"L\",\"XL\",\"L\",\"S\",\"L\",\"L\",\"XL\",\"XL\",\"M\",\"XL\",\"L\",\"L\",\"M\",\"L\",\"M\",\"M\",\"M\",\"M\",\"S\",\"M\",\"M\",\"L\",\"M\",\"M\",\"S\",\"S\",\"L\",\"M\",\"XL\",\"XL\",\"M\",\"M\",\"M\",\"M\",\"M\",\"M\",\"M\",\"M\",\"L\",\"M\",\"XL\",\"M\",\"M\",\"M\",\"S\",\"L\",\"M\",\"M\",\"M\",\"M\",\"S\",\"M\",\"M\",\"M\",\"L\",\"M\",\"S\",\"M\",\"L\",\"M\",\"M\",\"XL\",\"M\",\"L\",\"M\",\"S\",\"S\",\"M\",\"S\",\"L\",\"M\",\"M\",\"M\",\"XL\",\"M\",\"S\",\"M\",\"XL\",\"M\",\"M\",\"M\",\"S\",\"L\",\"L\",\"M\",\"L\",\"L\",\"XL\",\"L\",\"L\",\"XL\",\"M\",\"L\",\"L\",\"L\",\"M\",\"S\",\"S\",\"M\",\"M\",\"M\",\"L\",\"M\",\"XL\",\"XL\",\"S\",\"XL\",\"L\",\"L\",\"S\",\"M\",\"M\",\"M\",\"L\",\"L\",\"XL\",\"M\",\"S\",\"M\",\"XL\",\"M\",\"M\",\"XL\",\"S\",\"XL\",\"M\",\"S\",\"M\",\"M\",\"M\",\"M\",\"M\",\"M\",\"M\",\"M\",\"M\",\"M\",\"XL\",\"M\",\"L\",\"L\",\"M\",\"XL\",\"XL\",\"M\",\"XL\",\"XL\",\"M\",\"M\",\"XL\",\"L\",\"M\",\"S\",\"L\",\"M\",\"L\",\"M\",\"M\",\"M\",\"M\",\"M\",\"L\",\"M\",\"M\",\"M\",\"M\",\"M\",\"L\",\"M\",\"M\",\"M\",\"M\",\"M\",\"S\",\"M\",\"M\",\"S\",\"XL\",\"M\",\"M\",\"L\",\"L\",\"L\",\"L\",\"M\",\"M\",\"L\",\"M\",\"M\",\"S\",\"M\",\"L\",\"S\",\"M\",\"XL\",\"M\",\"S\",\"M\",\"XL\",\"L\",\"L\",\"XL\",\"M\",\"L\",\"M\",\"M\",\"L\",\"M\",\"M\",\"S\",\"L\",\"M\",\"L\",\"L\",\"M\",\"XL\",\"M\",\"M\",\"M\",\"M\",\"M\",\"L\",\"M\",\"M\",\"L\",\"M\",\"L\",\"M\",\"XL\",\"XL\",\"M\",\"S\",\"M\",\"S\",\"M\",\"M\",\"S\",\"M\",\"L\",\"S\",\"M\",\"M\",\"L\",\"XL\",\"M\",\"L\",\"S\",\"M\",\"S\",\"M\",\"S\",\"M\",\"M\",\"XL\",\"M\",\"L\",\"S\",\"M\",\"M\",\"M\",\"L\",\"L\",\"M\",\"S\",\"L\",\"M\",\"S\",\"M\",\"S\",\"M\",\"S\",\"L\",\"S\",\"S\",\"S\",\"M\",\"M\",\"M\",\"XL\",\"S\",\"M\",\"S\",\"L\",\"S\",\"M\",\"L\",\"L\",\"XL\",\"L\",\"L\",\"XL\",\"L\",\"M\",\"M\",\"M\",\"XL\",\"M\",\"XL\",\"M\",\"M\",\"M\",\"L\",\"S\",\"M\",\"M\",\"M\",\"S\",\"L\",\"L\",\"S\",\"M\",\"L\",\"S\",\"M\",\"M\",\"XL\",\"XL\",\"XL\",\"S\",\"M\",\"M\",\"M\",\"S\",\"M\",\"M\",\"M\",\"L\",\"L\",\"M\",\"S\",\"L\",\"S\",\"L\",\"XL\",\"L\",\"L\",\"M\",\"M\",\"L\",\"M\",\"S\",\"S\",\"M\",\"M\",\"S\",\"M\",\"XL\",\"M\",\"M\",\"L\",\"M\",\"M\",\"S\",\"L\",\"M\",\"M\",\"M\",\"L\",\"M\",\"M\",\"L\",\"M\",\"XL\",\"L\",\"M\",\"M\",\"S\",\"S\",\"S\",\"S\",\"M\",\"M\",\"XL\",\"M\",\"M\",\"L\",\"M\",\"M\",\"L\",\"S\",\"L\",\"L\",\"M\",\"M\",\"S\",\"L\",\"L\",\"XL\",\"M\",\"S\",\"M\",\"M\",\"M\",\"M\",\"L\",\"M\",\"L\",\"M\",\"M\",\"M\",\"XL\",\"S\",\"XL\",\"M\",\"S\",\"M\",\"M\",\"M\",\"XL\",\"L\",\"M\",\"M\",\"XL\",\"M\",\"M\",\"M\",\"L\",\"M\",\"L\",\"M\",\"M\",\"S\",\"M\",\"XL\",\"M\",\"M\",\"XL\",\"L\",\"L\",\"M\",\"L\",\"L\",\"M\",\"M\",\"L\",\"M\",\"M\",\"L\",\"L\",\"L\",\"M\",\"M\",\"L\",\"M\",\"L\",\"XL\",\"M\",\"L\",\"M\",\"M\",\"M\",\"M\",\"M\",\"M\",\"S\",\"M\",\"M\",\"M\",\"XL\",\"L\",\"M\",\"S\",\"L\",\"S\",\"M\",\"M\",\"M\",\"M\",\"M\",\"L\",\"XL\",\"S\",\"S\",\"L\",\"S\",\"M\",\"M\",\"M\",\"S\",\"M\",\"S\",\"M\",\"S\",\"XL\",\"M\",\"M\",\"L\",\"L\",\"M\",\"L\",\"L\",\"L\",\"S\",\"XL\",\"L\",\"M\",\"M\",\"M\",\"L\",\"L\",\"XL\",\"M\",\"XL\",\"M\",\"M\",\"S\",\"L\",\"L\",\"M\",\"M\",\"M\",\"M\",\"M\",\"XL\",\"M\",\"M\",\"S\",\"S\",\"M\",\"XL\",\"L\",\"M\",\"M\",\"L\",\"XL\",\"M\",\"L\",\"S\",\"XL\",\"M\",\"L\",\"M\",\"M\",\"M\",\"L\",\"M\",\"M\",\"L\",\"M\",\"S\",\"M\",\"M\",\"M\",\"M\",\"M\",\"L\",\"M\",\"L\",\"XL\",\"L\",\"M\",\"L\",\"M\",\"S\",\"L\",\"S\",\"M\",\"M\",\"L\",\"L\",\"S\",\"M\",\"M\",\"M\",\"L\",\"XL\",\"M\",\"M\",\"M\",\"XL\",\"M\",\"L\",\"L\",\"M\",\"L\",\"M\",\"S\",\"S\",\"L\",\"M\",\"M\",\"XL\",\"L\",\"M\",\"L\",\"XL\",\"M\",\"L\",\"L\",\"M\",\"XL\",\"M\",\"XL\",\"M\",\"S\",\"M\",\"M\",\"M\",\"M\",\"M\",\"S\",\"L\",\"M\",\"M\",\"S\",\"M\",\"M\",\"M\",\"M\",\"L\",\"M\",\"S\",\"L\",\"M\",\"M\",\"M\",\"M\",\"M\",\"S\",\"M\",\"XL\",\"S\",\"M\",\"M\",\"S\",\"M\",\"M\",\"L\",\"M\",\"M\",\"M\",\"M\",\"M\",\"L\",\"XL\",\"L\",\"M\",\"L\",\"M\",\"M\",\"L\",\"M\",\"M\",\"L\",\"L\",\"L\",\"S\",\"M\",\"L\",\"S\",\"M\",\"S\",\"L\",\"M\",\"M\",\"M\",\"M\",\"XL\",\"S\",\"S\",\"M\",\"S\",\"M\",\"M\",\"L\",\"M\",\"S\",\"M\",\"M\",\"L\",\"XL\",\"L\",\"L\",\"M\",\"M\",\"L\",\"XL\",\"M\",\"S\",\"M\",\"M\",\"L\",\"M\",\"L\",\"L\",\"XL\",\"M\",\"L\",\"S\",\"M\",\"M\",\"S\",\"XL\",\"L\",\"L\",\"L\",\"L\",\"L\",\"L\",\"L\",\"S\",\"M\"],\"xaxis\":\"x\",\"y\":[53,64,73,90,49,20,85,34,97,31,34,68,72,51,53,81,36,38,48,90,51,62,37,88,22,25,20,56,94,48,31,79,67,38,91,33,69,45,37,60,76,39,100,69,53,21,43,54,55,30,28,59,20,24,94,28,73,64,54,79,37,68,21,79,83,36,94,33,46,70,29,48,26,85,58,85,43,53,91,96,72,96,28,40,32,95,41,53,47,83,48,99,87,62,76,100,73,92,67,40,98,85,67,89,24,96,35,67,79,85,26,75,65,54,95,94,86,32,45,76,84,72,40,89,86,54,36,89,32,67,39,29,58,65,94,81,86,43,29,95,28,46,58,48,43,95,30,64,90,76,96,47,85,55,98,77,26,68,73,27,23,49,74,67,65,60,31,27,80,30,25,35,67,46,35,86,81,42,43,31,81,61,96,29,33,32,56,94,53,82,70,76,29,100,94,25,88,78,45,73,61,22,38,38,100,64,55,91,38,97,22,92,84,93,50,64,61,48,45,88,57,68,94,41,83,22,74,90,79,28,88,26,27,83,39,89,68,90,34,51,45,88,85,100,42,53,86,66,100,47,25,51,41,73,42,20,30,53,74,57,57,77,40,46,78,59,75,54,42,44,52,69,26,33,32,85,30,29,95,69,69,61,94,30,45,39,51,37,62,85,33,26,99,39,20,42,74,26,53,80,98,95,44,60,84,59,49,32,29,22,85,52,89,77,24,24,22,82,67,74,72,36,95,78,82,70,41,42,50,31,51,98,86,64,46,85,81,59,79,33,47,20,36,39,71,59,50,41,59,87,68,90,71,64,76,42,80,56,25,74,30,96,64,88,88,88,36,40,39,40,34,83,85,27,78,32,51,32,62,29,69,25,76,77,33,93,39,93,82,42,71,86,82,65,29,65,88,46,67,35,66,91,78,45,93,74,55,76,66,51,26,29,74,99,88,31,55,81,73,91,54,40,59,26,23,87,71,91,64,94,40,76,86,92,52,28,46,50,23,50,89,81,69,67,20,29,74,82,23,45,21,31,45,56,97,100,96,99,91,30,65,93,81,81,52,88,24,51,38,46,63,72,39,42,76,66,90,56,43,84,88,88,42,73,73,44,63,68,29,85,42,69,62,48,68,36,63,39,78,99,31,45,30,24,22,63,40,20,20,80,87,46,49,65,62,67,41,49,100,54,84,41,88,40,39,37,52,23,88,84,37,51,76,60,72,45,84,49,22,48,37,27,79,98,64,32,74,50,64,29,62,78,94,59,47,57,90,60,77,41,48,65,62,99,58,43,93,50,88,33,99,76,97,68,79,86,68,52,90,41,80,100,77,78,94,23,20,86,60,70,39,37,29,35,83,77,37,69,66,26,63,38,58,46,92,32,90,23,25,54,72,33,43,51,85,100,72,57,94,34,89,27,63,70,87,79,79,44,85,90,94,68,51,33,60,59,30,20,20,24,88,78,25,57,93,42,54,70,31,93,40,32,27,68,59,36,23,80,37,52,79,68,98,83,83,55,26,76,85,89,41,30,53,66,33,86,60,62,74,95,25,59,29,36,82,71,35,38,59,91,68,21,95,52,21,67,42,63,41,46,79,90,71,87,66,90,47,38,50,79,91,60,81,90,70,63,29,90,22,22,62,57,32,53,79,61,78,97,78,56,25,28,57,36,69,48,58,24,31,29,69,79,39,84,66,92,45,74,39,71,95,72,85,54,41,24,99,32,71,49,50,91,46,50,39,99,48,77,95,100,54,68,22,84,46,53,60,32,50,94,26,44,57,65,72,62,21,85,51,84,37,44,45,35,50,26,78,82,39,55,20,29,41,38,47,30,56,89,96,81,83,35,56,45,62,84,24,21,91,36,39,39,59,27,94,94,94,51,62,57,76,63,80,68,89,26,90,28,29,31,24,88,87,80,48,21,72,44,73,61,20,86,60,43,44,76,33,60,26,73,87,100,84,41,59,26,69,20,83,54,66,42,33,77,65,39,51,65,89,76,75,61,35,37,91,99,54,47,77,84,51,26,64,51,60,69,29,91,70,58,98,68,44,45,99,68,56,43,99,56,25,74,56,47,67,22,34,64,42,82,81,24,60,24,78,88,63,78,37,94,78,36,24,84,47,51,84,24,97,89,44,35,91,63,97,38,24,32,90,36,37,51,71,50,74,75,99,23,53,99,48,72,64,63,51,55,55,26,67,31,66,67,61,75,90,40,90,20,40,33,98,42,62,45,78,80,96,47,84,31,63,97,99,90,68,80,91,30,90,28,46,60,59,68,79,94,83,62,85,30,24,25,37,69,97,24,30,53,70,76,95,51,41,71,66,84,95,90,36,22,89,50,36,52,29,89,47,25,74,46,22,25,80,76,30,79,22,36,77,33,64,53,36,70,96,27,64,23,33,34,35,62,75,29,28,20,96,43,94,81,75,81,92,96,71,50,72,28,59,33,59,30,85,97,36,85,62,71,21,61,58,80,50,48,40,34,46,27,98,73,28,76,83,23,28,83,96,62,25,97,61,66,67,80,25,58,96,77,65,36,84,58,62,67,20,90,58,53,30,65,41,73,98,36,81,90,83,91,36,53,39,33,76,23,54,89,38,36,66,42,36,86,49,41,82,53,21,66,89,55,42,52,92,56,96,64,48,83,91,94,62,55,68,76,31,81,83,21,22,33,23,96,21,39,73,64,68,89,29,97,45,70,56,55,46,95,88,92,49,89,22,61,29,82,94,99,59,90,100,62,78,94,74,52,81,20,32,63,79,23,64,69,69,24,50,97,91,37,55,52,80,79,23,73,99,22,68,92,77,37,79,51,27,23,76,31,60,99,37,50,26,86,41,23,56,68,48,67,87,64,93,29,62,70,92,79,31,83,88,53,98,57,80,29,73,32,68,97,98,56,78,81,68,94,93,99,49,28,93,24,35,68,61,74,64,60,29,85,81,23,100,54,25,32,63,56,33,32,38,21,59,87,79,28,67,75,32,43,93,24,31,84,74,62,77,73,50,40,97,63,65,91,60,69,52,49,85,86,51,56,72,27,43,56,37,21,91,95,54,36,71,31,89,83,42,91,61,66,22,68,43,32,46,90,75,69,40,63,36,75,67,64,61,40,97,31,65,54,49,64,35,86,55,58,96,64,56,85,23,72,38,29,46,58,43,32,30,67,45,81,23,59,21,20,28,100,46,61,58,50,93,24,100,79,51,90,56,25,75,75,53,100,27,60,23,40,38,90,97,38,30,88,33,60,64,95,83,97,38,48,76,25,92,47,36,51,35,57,95,41,44,34,25,93,50,79,100,57,28,35,85,95,90,49,92,72,71,27,39,98,27,71,24,63,72,61,56,32,23,100,74,33,67,61,46,56,73,44,44,26,52,54,38,44,76,23,98,33,32,85,69,55,66,30,80,20,30,86,84,54,30,91,23,35,90,93,68,41,73,73,66,59,72,88,76,31,22,75,75,63,21,83,46,59,66,74,82,89,65,55,95,77,44,89,24,43,51,46,32,55,26,29,49,45,48,47,57,34,75,94,84,38,75,44,33,93,99,33,76,63,41,88,92,31,25,28,75,34,97,80,71,77,41,92,95,25,77,99,24,72,80,100,83,95,41,35,30,21,85,54,26,59,48,98,92,46,21,72,58,93,31,26,68,31,41,62,41,64,72,78,47,46,43,58,32,45,35,21,64,88,48,36,28,80,23,24,22,21,51,65,51,32,70,77,90,36,77,78,69,63,36,80,35,93,25,81,42,36,66,37,45,86,24,22,53,41,64,40,33,59,73,22,73,62,56,90,44,35,71,52,37,95,97,57,93,48,75,70,26,73,30,61,75,88,67,95,69,87,41,67,70,41,83,22,20,29,87,81,58,83,59,93,87,22,71,69,47,50,96,39,84,28,51,20,72,33,28,53,48,21,22,87,50,85,98,34,61,98,61,98,21,51,80,72,63,27,44,23,93,70,85,40,29,27,93,20,55,94,56,58,44,95,42,93,56,88,54,89,45,75,22,82,34,92,78,47,64,44,94,62,81,33,88,49,31,29,34,38,41,34,26,98,59,92,40,20,35,35,82,48,58,57,96,97,42,62,67,46,71,99,28,77,63,62,92,72,79,27,39,86,94,53,85,50,47,75,60,36,80,96,80,71,29,53,35,75,52,77,24,78,98,57,78,76,26,78,53,100,73,40,76,80,80,67,61,76,55,85,69,26,64,60,36,21,72,62,44,52,58,77,99,96,64,44,33,71,36,62,29,33,33,41,54,58,30,53,91,44,89,57,57,74,30,20,90,61,51,97,97,40,85,76,22,63,71,35,30,74,71,84,38,81,56,48,97,74,50,71,33,56,84,36,63,36,63,32,93,29,92,33,52,42,36,67,43,68,60,53,23,57,89,99,28,53,45,38,49,32,37,80,78,53,82,33,77,56,37,54,67,90,72,59,45,30,51,90,95,81,70,32,94,29,31,20,44,77,51,49,78,98,94,91,77,97,58,97,48,23,79,42,95,29,98,96,66,80,27,25,45,89,27,90,65,72,70,82,97,25,48,99,21,94,53,70,26,82,47,32,97,68,23,33,38,68,23,29,35,73,84,23,67,51,36,55,30,70,63,87,70,51,25,32,52,33,68,20,32,82,64,24,96,94,48,60,56,33,46,37,98,50,63,70,63,86,99,40,92,21,81,82,88,100,66,25,53,28,23,34,42,24,47,78,89,59,94,49,89,91,89,57,71,97,45,91,25,63,52,43,28,78,31,23,25,86,88,35,34,75,46,31,93,85,68,40,51,85,23,28,44,57,98,68,36,71,60,87,38,45,47,57,68,52,87,34,41,94,93,51,42,95,90,98,39,66,23,73,23,43,45,21,40,58,48,94,74,51,83,68,84,58,92,69,48,60,20,55,88,48,74,42,32,98,89,97,49,50,91,93,98,82,37,63,99,37,34,32,23,78,54,94,75,69,35,78,29,62,58,88,80,47,51,25,36,79,41,68,51,38,46,20,25,89,77,94,100,96,36,27,67,91,62,88,66,65,25,64,72,74,50,97,36,49,64,31,66,82,88,34,84,96,71,77,66,21,37,90,96,37,66,45,89,94,96,31,79,39,22,32,71,96,82,76,22,40,92,94,44,49,26,38,72,99,38,96,27,24,82,56,25,67,21,27,97,45,63,100,38,45,91,82,48,30,34,68,95,22,88,83,87,57,88,20,39,71,73,63,78,96,81,95,68,28,30,31,95,79,39,34,28,38,55,31,84,93,28,55,63,94,36,97,63,77,53,77,79,37,94,76,68,65,24,31,89,49,92,32,67,64,84,34,26,50,46,71,78,35,58,67,93,81,80,64,41,79,60,91,66,85,38,23,71,25,39,20,73,63,94,94,71,77,66,23,60,72,35,31,33,95,68,87,64,74,62,97,47,83,82,26,81,44,88,76,89,22,33,97,57,38,55,37,43,96,51,95,26,34,83,24,69,40,87,46,82,81,57,49,42,26,38,57,100,73,66,73,45,27,24,59,20,44,90,36,95,30,65,96,65,47,25,56,76,60,67,95,72,98,83,37,85,36,36,86,99,21,84,63,84,72,21,92,72,83,73,98,76,43,60,40,93,98,91,92,87,96,97,55,58,21,82,34,78,47,96,23,27,37,79,40,39,73,84,94,47,77,94,75,82,36,90,48,42,33,63,53,37,92,73,38,51,90,56,33,53,24,59,72,28,36,47,62,98,28,86,46,42,80,39,49,32,73,42,58,22,56,70,50,21,97,63,60,52,32,48,25,68,74,88,23,32,71,62,20,62,81,90,43,38,25,98,75,27,27,42,90,63,96,40,39,48,20,29,81,98,93,30,37,28,29,49,53,66,61,23,36,81,56,78,25,86,99,83,33,44,58,54,93,98,36,68,95,93,99,22,88,65,62,55,97,77,40,23,46,75,76,59,51,46,26,51,44,82,44,27,90,58,80,40,23,34,35,75,60,87,41,83,81,56,58,84,21,35,43,20,36,70,83,76,81,47,35,85,96,98,52,84,71,95,47,75,28,44,64,28,21,41,38,77,43,91,68,37,23,65,30,45,25,72,75,63,35,32,25,90,70,27,92,20,52,57,96,68,30,37,42,54,81,40,88,94,54,51,22,95,57,45,92,40,62,90,82,52,70,83,49,91,99,92,87,28,71,32,33,75,83,93,29,25,76,81,80,70,81,86,94,66,98,25,62,98,53,66,52,64,59,61,97,23,98,98,59,82,82,41,52,41,70,91,95,25,89,44,52,94,98,40,25,62,24,57,66,70,39,34,38,70,80,51,79,92,85,63,60,44,57,24,35,73,42,20,89,76,56,100,44,76,97,39,100,62,98,31,89,91,50,32,67,28,65,73,27,89,72,37,63,90,62,43,96,83,67,90,53,37,56,43,84,50,88,50,80,47,33,100,26,79,77,36,21,72,25,79,73,71,48,28,95,48,93,87,32,38,54,75,56,43,97,75,55,49,58,34,43,48,40,29,81,84,46,86,57,61,90,51,48,50,82,33,28,42,43,55,73,39,20,32,86,91,59,33,64,67,43,32,39,41,53,27,82,87,78,32,38,37,83,72,30,66,45,73,67,72,24,68,70,64,91,82,24,80,53,50,31,88,52,22,27,34,39,53,46,85,86,63,44,95,49,77,63,83,93,91,99,24,82,28,67,88,70,100,28,48,43,40,97,25,45,49,36,48,62,74,100,39,65,99,68,97,47,56,91,93,36,45,44,32,36,85,36,55,20,91,71,64,21,100,96,91,40,53,48,70,29,29,53,79,65,99,60,86,73,45,70,65,55,65,21,26,71,41,44,81,77,26,31,82,60,70,26,100,82,24,74,58,56,37,64,58,44,39,48,32,79,27,98,67,37,49,74,93,60,76,64,38,91,70,22,59,22,74,71,80,59,96,43,76,59,48,22,40,73,26,41,98,63,55,90,46,88,95,31,42,44,99,20,37,50,73,84,64,21,36,81,54,63,59,53,63,33,64,98,85,82,85,37,56,33,57,31,69,92,46,81,97,93,56,53,66,50,97,79,76,38,45,77,51,26,76,94,32,20,20,59,97,68,66,85,32,44,95,85,44,30,21,22,70,29,83,99,35,40,25,64,90,88,55,90,50,34,77,89,87,77,85,66,32,92,80,78,24,59,41,26,52,46,52,42,37,52,34,88,88,51,97,56,53,71,93,72,59,87,78,68,76,99,52,58,59,71,94,40,24,38,37,29,92,24,52,29,30,31,67,65,22,56,78,90,85,58,34,40,29,76,84,65,80,98,71,69,95,67,49,97,34,74,96,68,84,57,84,32,37,58,74,99,81,76,98,91,79,83,90,20,21,60,31,40,26,98,51,95,36,52,35,68,50,100,74,45,97,60,25,55,99,45,20,88,99,86,70,50,57,69,94,24,79,31,67,63,61,50,82,51,23,91,60,34,23,82,73,32,80,58,82,60,79,41,39,36,70,47,27,52,75,30,94,68,45,67,46,31,44,100,92,78,32,97,95,64,35,54,96,58,23,35,23,94,45,23,94,99,36,50,81,31,48,91,99,70,74,79,33,49,96,66,45,28,48,67,59,74,81,26,61,23,33,58,65,48,25,51,31,99,25,52,47,98,46,32,75,51,52,66,35,43,24,83,62,78,61,57,70,57,74,90,98,43,37,38,60,55,51,71,61,65,34,87,79,46,72,93,76,56,83,90,94,68,53,35,30,26,60,30,91,71,64,54,35,38,69,96,73,49,44,93,72,91,83,62,71,93,63,96,78,24,63,58,55,58,28,37,78,73,20,60,71,89,53,87,37,37,78,23,73,27,59,53,42,45,89,85,69,66,42,40,82,88,99,85,57,56,79,67,61,37,75,21,89,24,27,26,82,28,65,82,38,33,38,48,35,29,48,87,62,96,41,42,57,65,54,22,96,81,46,74,50,80,56,69,97,66,70,50,85,59,74,38,99,97,67,20,45,52,68,98,83,51,21,92,63,56,95,66,28,83,55,28,79,31,37,34,74,31,66,99,55,23,88,26,94,25,96,29,36,90,38,52,88,56,71,94,97,27,28,67,70,95,24,35,22,66,83,95,41,77,52,41,28,90,55,73,87,89,82,80,87,41,83,71,76,34,81,47,36,51,86,41,90,93,56,39,86,82,29,27,25,31,23,47,67,75,82,32,41,89,82,99,98,54,88,43,73,50,73,51,22,32,38,66,20,44,31,45,71,96,32,90,68,45,67,57,60,32,29,20,98,27,67,82,72,77,74,39,80,59,68,77,50,45,71,52,50,66,81,28,65,80,94,30,45,91,36,73,60,77,86,42,70,44,91,30,23,21,34,46,41,33,48,66,54,55,84,66,65,83,61,65,55,79,96,43,40,62,72,87,31,34,53,85,50,91,56,60,34,30,71,100,85,83,31,82,79,62,92,58,88,44,56,23,45,31,96,96,80,28,51,41,99,53,25,95,88,97,81,26,41,93,69,44,54,61,80,30,94,24,21,52,59,51,35,87,42,86,26,60,83,63,25,65,60,75,57,99,45,66,53,94,47,80,65,75,45,51,58,20,82,92,81,44,72,26,26,84,72,55,77,57,71,39,28,33,79,30,75,89,95,44,86,91,41,99,65,48,41,42,26,35,31,73,82,32,27,86,38,93,59,58,84,100,25,29,42,57,84,71,87,52,58,34,60,68,74,83,79,76,20,61,78,21,77,88,64,57,49,35,99,42,32,21,29,64,46,97,94,43,54,51,85,96,42,63,20,25,95,38,29,64,92,34,69,65,81,30,86,64,78,28,49,33,77,81],\"yaxis\":\"y\",\"type\":\"bar\"}],                        {\"template\":{\"data\":{\"histogram2dcontour\":[{\"type\":\"histogram2dcontour\",\"colorbar\":{\"outlinewidth\":0,\"ticks\":\"\"},\"colorscale\":[[0.0,\"#0d0887\"],[0.1111111111111111,\"#46039f\"],[0.2222222222222222,\"#7201a8\"],[0.3333333333333333,\"#9c179e\"],[0.4444444444444444,\"#bd3786\"],[0.5555555555555556,\"#d8576b\"],[0.6666666666666666,\"#ed7953\"],[0.7777777777777778,\"#fb9f3a\"],[0.8888888888888888,\"#fdca26\"],[1.0,\"#f0f921\"]]}],\"choropleth\":[{\"type\":\"choropleth\",\"colorbar\":{\"outlinewidth\":0,\"ticks\":\"\"}}],\"histogram2d\":[{\"type\":\"histogram2d\",\"colorbar\":{\"outlinewidth\":0,\"ticks\":\"\"},\"colorscale\":[[0.0,\"#0d0887\"],[0.1111111111111111,\"#46039f\"],[0.2222222222222222,\"#7201a8\"],[0.3333333333333333,\"#9c179e\"],[0.4444444444444444,\"#bd3786\"],[0.5555555555555556,\"#d8576b\"],[0.6666666666666666,\"#ed7953\"],[0.7777777777777778,\"#fb9f3a\"],[0.8888888888888888,\"#fdca26\"],[1.0,\"#f0f921\"]]}],\"heatmap\":[{\"type\":\"heatmap\",\"colorbar\":{\"outlinewidth\":0,\"ticks\":\"\"},\"colorscale\":[[0.0,\"#0d0887\"],[0.1111111111111111,\"#46039f\"],[0.2222222222222222,\"#7201a8\"],[0.3333333333333333,\"#9c179e\"],[0.4444444444444444,\"#bd3786\"],[0.5555555555555556,\"#d8576b\"],[0.6666666666666666,\"#ed7953\"],[0.7777777777777778,\"#fb9f3a\"],[0.8888888888888888,\"#fdca26\"],[1.0,\"#f0f921\"]]}],\"heatmapgl\":[{\"type\":\"heatmapgl\",\"colorbar\":{\"outlinewidth\":0,\"ticks\":\"\"},\"colorscale\":[[0.0,\"#0d0887\"],[0.1111111111111111,\"#46039f\"],[0.2222222222222222,\"#7201a8\"],[0.3333333333333333,\"#9c179e\"],[0.4444444444444444,\"#bd3786\"],[0.5555555555555556,\"#d8576b\"],[0.6666666666666666,\"#ed7953\"],[0.7777777777777778,\"#fb9f3a\"],[0.8888888888888888,\"#fdca26\"],[1.0,\"#f0f921\"]]}],\"contourcarpet\":[{\"type\":\"contourcarpet\",\"colorbar\":{\"outlinewidth\":0,\"ticks\":\"\"}}],\"contour\":[{\"type\":\"contour\",\"colorbar\":{\"outlinewidth\":0,\"ticks\":\"\"},\"colorscale\":[[0.0,\"#0d0887\"],[0.1111111111111111,\"#46039f\"],[0.2222222222222222,\"#7201a8\"],[0.3333333333333333,\"#9c179e\"],[0.4444444444444444,\"#bd3786\"],[0.5555555555555556,\"#d8576b\"],[0.6666666666666666,\"#ed7953\"],[0.7777777777777778,\"#fb9f3a\"],[0.8888888888888888,\"#fdca26\"],[1.0,\"#f0f921\"]]}],\"surface\":[{\"type\":\"surface\",\"colorbar\":{\"outlinewidth\":0,\"ticks\":\"\"},\"colorscale\":[[0.0,\"#0d0887\"],[0.1111111111111111,\"#46039f\"],[0.2222222222222222,\"#7201a8\"],[0.3333333333333333,\"#9c179e\"],[0.4444444444444444,\"#bd3786\"],[0.5555555555555556,\"#d8576b\"],[0.6666666666666666,\"#ed7953\"],[0.7777777777777778,\"#fb9f3a\"],[0.8888888888888888,\"#fdca26\"],[1.0,\"#f0f921\"]]}],\"mesh3d\":[{\"type\":\"mesh3d\",\"colorbar\":{\"outlinewidth\":0,\"ticks\":\"\"}}],\"scatter\":[{\"fillpattern\":{\"fillmode\":\"overlay\",\"size\":10,\"solidity\":0.2},\"type\":\"scatter\"}],\"parcoords\":[{\"type\":\"parcoords\",\"line\":{\"colorbar\":{\"outlinewidth\":0,\"ticks\":\"\"}}}],\"scatterpolargl\":[{\"type\":\"scatterpolargl\",\"marker\":{\"colorbar\":{\"outlinewidth\":0,\"ticks\":\"\"}}}],\"bar\":[{\"error_x\":{\"color\":\"#2a3f5f\"},\"error_y\":{\"color\":\"#2a3f5f\"},\"marker\":{\"line\":{\"color\":\"#E5ECF6\",\"width\":0.5},\"pattern\":{\"fillmode\":\"overlay\",\"size\":10,\"solidity\":0.2}},\"type\":\"bar\"}],\"scattergeo\":[{\"type\":\"scattergeo\",\"marker\":{\"colorbar\":{\"outlinewidth\":0,\"ticks\":\"\"}}}],\"scatterpolar\":[{\"type\":\"scatterpolar\",\"marker\":{\"colorbar\":{\"outlinewidth\":0,\"ticks\":\"\"}}}],\"histogram\":[{\"marker\":{\"pattern\":{\"fillmode\":\"overlay\",\"size\":10,\"solidity\":0.2}},\"type\":\"histogram\"}],\"scattergl\":[{\"type\":\"scattergl\",\"marker\":{\"colorbar\":{\"outlinewidth\":0,\"ticks\":\"\"}}}],\"scatter3d\":[{\"type\":\"scatter3d\",\"line\":{\"colorbar\":{\"outlinewidth\":0,\"ticks\":\"\"}},\"marker\":{\"colorbar\":{\"outlinewidth\":0,\"ticks\":\"\"}}}],\"scattermapbox\":[{\"type\":\"scattermapbox\",\"marker\":{\"colorbar\":{\"outlinewidth\":0,\"ticks\":\"\"}}}],\"scatterternary\":[{\"type\":\"scatterternary\",\"marker\":{\"colorbar\":{\"outlinewidth\":0,\"ticks\":\"\"}}}],\"scattercarpet\":[{\"type\":\"scattercarpet\",\"marker\":{\"colorbar\":{\"outlinewidth\":0,\"ticks\":\"\"}}}],\"carpet\":[{\"aaxis\":{\"endlinecolor\":\"#2a3f5f\",\"gridcolor\":\"white\",\"linecolor\":\"white\",\"minorgridcolor\":\"white\",\"startlinecolor\":\"#2a3f5f\"},\"baxis\":{\"endlinecolor\":\"#2a3f5f\",\"gridcolor\":\"white\",\"linecolor\":\"white\",\"minorgridcolor\":\"white\",\"startlinecolor\":\"#2a3f5f\"},\"type\":\"carpet\"}],\"table\":[{\"cells\":{\"fill\":{\"color\":\"#EBF0F8\"},\"line\":{\"color\":\"white\"}},\"header\":{\"fill\":{\"color\":\"#C8D4E3\"},\"line\":{\"color\":\"white\"}},\"type\":\"table\"}],\"barpolar\":[{\"marker\":{\"line\":{\"color\":\"#E5ECF6\",\"width\":0.5},\"pattern\":{\"fillmode\":\"overlay\",\"size\":10,\"solidity\":0.2}},\"type\":\"barpolar\"}],\"pie\":[{\"automargin\":true,\"type\":\"pie\"}]},\"layout\":{\"autotypenumbers\":\"strict\",\"colorway\":[\"#636efa\",\"#EF553B\",\"#00cc96\",\"#ab63fa\",\"#FFA15A\",\"#19d3f3\",\"#FF6692\",\"#B6E880\",\"#FF97FF\",\"#FECB52\"],\"font\":{\"color\":\"#2a3f5f\"},\"hovermode\":\"closest\",\"hoverlabel\":{\"align\":\"left\"},\"paper_bgcolor\":\"white\",\"plot_bgcolor\":\"#E5ECF6\",\"polar\":{\"bgcolor\":\"#E5ECF6\",\"angularaxis\":{\"gridcolor\":\"white\",\"linecolor\":\"white\",\"ticks\":\"\"},\"radialaxis\":{\"gridcolor\":\"white\",\"linecolor\":\"white\",\"ticks\":\"\"}},\"ternary\":{\"bgcolor\":\"#E5ECF6\",\"aaxis\":{\"gridcolor\":\"white\",\"linecolor\":\"white\",\"ticks\":\"\"},\"baxis\":{\"gridcolor\":\"white\",\"linecolor\":\"white\",\"ticks\":\"\"},\"caxis\":{\"gridcolor\":\"white\",\"linecolor\":\"white\",\"ticks\":\"\"}},\"coloraxis\":{\"colorbar\":{\"outlinewidth\":0,\"ticks\":\"\"}},\"colorscale\":{\"sequential\":[[0.0,\"#0d0887\"],[0.1111111111111111,\"#46039f\"],[0.2222222222222222,\"#7201a8\"],[0.3333333333333333,\"#9c179e\"],[0.4444444444444444,\"#bd3786\"],[0.5555555555555556,\"#d8576b\"],[0.6666666666666666,\"#ed7953\"],[0.7777777777777778,\"#fb9f3a\"],[0.8888888888888888,\"#fdca26\"],[1.0,\"#f0f921\"]],\"sequentialminus\":[[0.0,\"#0d0887\"],[0.1111111111111111,\"#46039f\"],[0.2222222222222222,\"#7201a8\"],[0.3333333333333333,\"#9c179e\"],[0.4444444444444444,\"#bd3786\"],[0.5555555555555556,\"#d8576b\"],[0.6666666666666666,\"#ed7953\"],[0.7777777777777778,\"#fb9f3a\"],[0.8888888888888888,\"#fdca26\"],[1.0,\"#f0f921\"]],\"diverging\":[[0,\"#8e0152\"],[0.1,\"#c51b7d\"],[0.2,\"#de77ae\"],[0.3,\"#f1b6da\"],[0.4,\"#fde0ef\"],[0.5,\"#f7f7f7\"],[0.6,\"#e6f5d0\"],[0.7,\"#b8e186\"],[0.8,\"#7fbc41\"],[0.9,\"#4d9221\"],[1,\"#276419\"]]},\"xaxis\":{\"gridcolor\":\"white\",\"linecolor\":\"white\",\"ticks\":\"\",\"title\":{\"standoff\":15},\"zerolinecolor\":\"white\",\"automargin\":true,\"zerolinewidth\":2},\"yaxis\":{\"gridcolor\":\"white\",\"linecolor\":\"white\",\"ticks\":\"\",\"title\":{\"standoff\":15},\"zerolinecolor\":\"white\",\"automargin\":true,\"zerolinewidth\":2},\"scene\":{\"xaxis\":{\"backgroundcolor\":\"#E5ECF6\",\"gridcolor\":\"white\",\"linecolor\":\"white\",\"showbackground\":true,\"ticks\":\"\",\"zerolinecolor\":\"white\",\"gridwidth\":2},\"yaxis\":{\"backgroundcolor\":\"#E5ECF6\",\"gridcolor\":\"white\",\"linecolor\":\"white\",\"showbackground\":true,\"ticks\":\"\",\"zerolinecolor\":\"white\",\"gridwidth\":2},\"zaxis\":{\"backgroundcolor\":\"#E5ECF6\",\"gridcolor\":\"white\",\"linecolor\":\"white\",\"showbackground\":true,\"ticks\":\"\",\"zerolinecolor\":\"white\",\"gridwidth\":2}},\"shapedefaults\":{\"line\":{\"color\":\"#2a3f5f\"}},\"annotationdefaults\":{\"arrowcolor\":\"#2a3f5f\",\"arrowhead\":0,\"arrowwidth\":1},\"geo\":{\"bgcolor\":\"white\",\"landcolor\":\"#E5ECF6\",\"subunitcolor\":\"white\",\"showland\":true,\"showlakes\":true,\"lakecolor\":\"white\"},\"title\":{\"x\":0.05},\"mapbox\":{\"style\":\"light\"}}},\"xaxis\":{\"anchor\":\"y\",\"domain\":[0.0,1.0],\"title\":{\"text\":\"Size\"}},\"yaxis\":{\"anchor\":\"x\",\"domain\":[0.0,1.0],\"title\":{\"text\":\"Purchase Amount (USD)\"}},\"legend\":{\"tracegroupgap\":0},\"margin\":{\"t\":60},\"barmode\":\"relative\"},                        {\"responsive\": true}                    ).then(function(){\n",
       "                            \n",
       "var gd = document.getElementById('b38bc7e7-12c3-4489-8011-50ff9df7268e');\n",
       "var x = new MutationObserver(function (mutations, observer) {{\n",
       "        var display = window.getComputedStyle(gd).display;\n",
       "        if (!display || display === 'none') {{\n",
       "            console.log([gd, 'removed!']);\n",
       "            Plotly.purge(gd);\n",
       "            observer.disconnect();\n",
       "        }}\n",
       "}});\n",
       "\n",
       "// Listen for the removal of the full notebook cells\n",
       "var notebookContainer = gd.closest('#notebook-container');\n",
       "if (notebookContainer) {{\n",
       "    x.observe(notebookContainer, {childList: true});\n",
       "}}\n",
       "\n",
       "// Listen for the clearing of the current output cell\n",
       "var outputEl = gd.closest('.output');\n",
       "if (outputEl) {{\n",
       "    x.observe(outputEl, {childList: true});\n",
       "}}\n",
       "\n",
       "                        })                };                });            </script>        </div>"
      ]
     },
     "metadata": {},
     "output_type": "display_data"
    }
   ],
   "source": [
    "fig  = px.bar(df, x = 'Size' , y ='Purchase Amount (USD)')\n",
    "fig.show()"
   ]
  },
  {
   "cell_type": "markdown",
   "id": "cc1aa1a7",
   "metadata": {
    "papermill": {
     "duration": 0.023073,
     "end_time": "2023-12-07T07:16:07.322647",
     "exception": false,
     "start_time": "2023-12-07T07:16:07.299574",
     "status": "completed"
    },
    "tags": []
   },
   "source": [
    "Understanding the correlation between product size and purchase amount can assist businesses in optimizing their product offerings and pricing strategies, ensuring they align with customer preferences and maximize sales potential."
   ]
  },
  {
   "cell_type": "markdown",
   "id": "49dd89d6",
   "metadata": {
    "papermill": {
     "duration": 0.022336,
     "end_time": "2023-12-07T07:16:07.368559",
     "exception": false,
     "start_time": "2023-12-07T07:16:07.346223",
     "status": "completed"
    },
    "tags": []
   },
   "source": [
    "13. Which shipping type is preferred by customers for different product categories?"
   ]
  },
  {
   "cell_type": "code",
   "execution_count": 20,
   "id": "a183d996",
   "metadata": {
    "execution": {
     "iopub.execute_input": "2023-12-07T07:16:07.417706Z",
     "iopub.status.busy": "2023-12-07T07:16:07.416997Z",
     "iopub.status.idle": "2023-12-07T07:16:07.429423Z",
     "shell.execute_reply": "2023-12-07T07:16:07.428279Z"
    },
    "papermill": {
     "duration": 0.039576,
     "end_time": "2023-12-07T07:16:07.431941",
     "exception": false,
     "start_time": "2023-12-07T07:16:07.392365",
     "status": "completed"
    },
    "tags": []
   },
   "outputs": [
    {
     "data": {
      "text/plain": [
       "Category     Shipping Type \n",
       "Accessories  Store Pickup      217\n",
       "             Next Day Air      211\n",
       "             Standard          208\n",
       "             2-Day Shipping    206\n",
       "             Express           203\n",
       "             Free Shipping     195\n",
       "Clothing     Standard          297\n",
       "             Free Shipping     294\n",
       "             Next Day Air      293\n",
       "             Express           290\n",
       "             Store Pickup      282\n",
       "             2-Day Shipping    281\n",
       "Footwear     Free Shipping     122\n",
       "             Standard          100\n",
       "             Store Pickup       98\n",
       "             Express            96\n",
       "             Next Day Air       93\n",
       "             2-Day Shipping     90\n",
       "Outerwear    Free Shipping      64\n",
       "             Express            57\n",
       "             Store Pickup       53\n",
       "             Next Day Air       51\n",
       "             2-Day Shipping     50\n",
       "             Standard           49\n",
       "Name: count, dtype: int64"
      ]
     },
     "execution_count": 20,
     "metadata": {},
     "output_type": "execute_result"
    }
   ],
   "source": [
    "df.groupby('Category')['Shipping Type'].value_counts()"
   ]
  },
  {
   "cell_type": "markdown",
   "id": "fa2a8080",
   "metadata": {
    "papermill": {
     "duration": 0.022481,
     "end_time": "2023-12-07T07:16:07.477259",
     "exception": false,
     "start_time": "2023-12-07T07:16:07.454778",
     "status": "completed"
    },
    "tags": []
   },
   "source": [
    "14. How does the presence of a discount affect the purchase decision of customers?"
   ]
  },
  {
   "cell_type": "code",
   "execution_count": 21,
   "id": "b25664b7",
   "metadata": {
    "execution": {
     "iopub.execute_input": "2023-12-07T07:16:07.526455Z",
     "iopub.status.busy": "2023-12-07T07:16:07.525817Z",
     "iopub.status.idle": "2023-12-07T07:16:07.535551Z",
     "shell.execute_reply": "2023-12-07T07:16:07.534395Z"
    },
    "papermill": {
     "duration": 0.037248,
     "end_time": "2023-12-07T07:16:07.538034",
     "exception": false,
     "start_time": "2023-12-07T07:16:07.500786",
     "status": "completed"
    },
    "tags": []
   },
   "outputs": [
    {
     "data": {
      "text/plain": [
       "Discount Applied\n",
       "No     2223\n",
       "Yes    1677\n",
       "Name: Purchase Amount (USD), dtype: int64"
      ]
     },
     "execution_count": 21,
     "metadata": {},
     "output_type": "execute_result"
    }
   ],
   "source": [
    "df.groupby('Discount Applied')['Purchase Amount (USD)'].count()"
   ]
  },
  {
   "cell_type": "markdown",
   "id": "81f23d72",
   "metadata": {
    "papermill": {
     "duration": 0.022589,
     "end_time": "2023-12-07T07:16:07.584100",
     "exception": false,
     "start_time": "2023-12-07T07:16:07.561511",
     "status": "completed"
    },
    "tags": []
   },
   "source": []
  },
  {
   "cell_type": "markdown",
   "id": "5fde995b",
   "metadata": {
    "papermill": {
     "duration": 0.023043,
     "end_time": "2023-12-07T07:16:07.632084",
     "exception": false,
     "start_time": "2023-12-07T07:16:07.609041",
     "status": "completed"
    },
    "tags": []
   },
   "source": [
    "15. Are there any specific colors that are more popular among customers?\n"
   ]
  },
  {
   "cell_type": "code",
   "execution_count": 22,
   "id": "29ce33f5",
   "metadata": {
    "execution": {
     "iopub.execute_input": "2023-12-07T07:16:07.683344Z",
     "iopub.status.busy": "2023-12-07T07:16:07.681205Z",
     "iopub.status.idle": "2023-12-07T07:16:07.692319Z",
     "shell.execute_reply": "2023-12-07T07:16:07.691391Z"
    },
    "papermill": {
     "duration": 0.039244,
     "end_time": "2023-12-07T07:16:07.694806",
     "exception": false,
     "start_time": "2023-12-07T07:16:07.655562",
     "status": "completed"
    },
    "tags": []
   },
   "outputs": [
    {
     "data": {
      "text/plain": [
       "Color\n",
       "Olive        177\n",
       "Yellow       174\n",
       "Silver       173\n",
       "Teal         172\n",
       "Green        169\n",
       "Black        167\n",
       "Cyan         166\n",
       "Violet       166\n",
       "Gray         159\n",
       "Maroon       158\n",
       "Orange       154\n",
       "Charcoal     153\n",
       "Pink         153\n",
       "Magenta      152\n",
       "Blue         152\n",
       "Purple       151\n",
       "Peach        149\n",
       "Red          148\n",
       "Beige        147\n",
       "Indigo       147\n",
       "Lavender     147\n",
       "Turquoise    145\n",
       "White        142\n",
       "Brown        141\n",
       "Gold         138\n",
       "Name: count, dtype: int64"
      ]
     },
     "execution_count": 22,
     "metadata": {},
     "output_type": "execute_result"
    }
   ],
   "source": [
    "df['Color'].value_counts()"
   ]
  },
  {
   "cell_type": "markdown",
   "id": "cbc0114b",
   "metadata": {
    "papermill": {
     "duration": 0.022962,
     "end_time": "2023-12-07T07:16:07.741286",
     "exception": false,
     "start_time": "2023-12-07T07:16:07.718324",
     "status": "completed"
    },
    "tags": []
   },
   "source": [
    "Olive emerged as the most popular color among customers. This earthy and versatile shade appears to resonate well with the customer base, potentially due to its natural and neutral appeal."
   ]
  },
  {
   "cell_type": "markdown",
   "id": "2e3d8ba6",
   "metadata": {
    "papermill": {
     "duration": 0.022759,
     "end_time": "2023-12-07T07:16:07.787450",
     "exception": false,
     "start_time": "2023-12-07T07:16:07.764691",
     "status": "completed"
    },
    "tags": []
   },
   "source": [
    "16. What is the average number of previous purchases made by customers?"
   ]
  },
  {
   "cell_type": "code",
   "execution_count": 23,
   "id": "fb8fc741",
   "metadata": {
    "execution": {
     "iopub.execute_input": "2023-12-07T07:16:07.836064Z",
     "iopub.status.busy": "2023-12-07T07:16:07.835565Z",
     "iopub.status.idle": "2023-12-07T07:16:07.842965Z",
     "shell.execute_reply": "2023-12-07T07:16:07.841804Z"
    },
    "papermill": {
     "duration": 0.034621,
     "end_time": "2023-12-07T07:16:07.845485",
     "exception": false,
     "start_time": "2023-12-07T07:16:07.810864",
     "status": "completed"
    },
    "tags": []
   },
   "outputs": [
    {
     "data": {
      "text/plain": [
       "25.35153846153846"
      ]
     },
     "execution_count": 23,
     "metadata": {},
     "output_type": "execute_result"
    }
   ],
   "source": [
    "df['Previous Purchases'].mean()"
   ]
  },
  {
   "cell_type": "markdown",
   "id": "66fc600e",
   "metadata": {
    "papermill": {
     "duration": 0.024629,
     "end_time": "2023-12-07T07:16:07.893227",
     "exception": false,
     "start_time": "2023-12-07T07:16:07.868598",
     "status": "completed"
    },
    "tags": []
   },
   "source": [
    "Based on the data analysis, it can be concluded that the average number of previous purchases made by customers is approximately 25.35. This average provides insight into the purchasing behavior and loyalty of the customer base."
   ]
  },
  {
   "cell_type": "markdown",
   "id": "7b514668",
   "metadata": {
    "papermill": {
     "duration": 0.023028,
     "end_time": "2023-12-07T07:16:07.939501",
     "exception": false,
     "start_time": "2023-12-07T07:16:07.916473",
     "status": "completed"
    },
    "tags": []
   },
   "source": [
    "17. Are there any noticeable differences in purchase behavior between different locations?"
   ]
  },
  {
   "cell_type": "code",
   "execution_count": 24,
   "id": "b2b3ef45",
   "metadata": {
    "execution": {
     "iopub.execute_input": "2023-12-07T07:16:07.989538Z",
     "iopub.status.busy": "2023-12-07T07:16:07.989098Z",
     "iopub.status.idle": "2023-12-07T07:16:08.332787Z",
     "shell.execute_reply": "2023-12-07T07:16:08.331182Z"
    },
    "papermill": {
     "duration": 0.372275,
     "end_time": "2023-12-07T07:16:08.335556",
     "exception": false,
     "start_time": "2023-12-07T07:16:07.963281",
     "status": "completed"
    },
    "tags": []
   },
   "outputs": [
    {
     "name": "stdout",
     "output_type": "stream",
     "text": [
      "Location\n",
      "Montana       96\n",
      "California    95\n",
      "Idaho         93\n",
      "Illinois      92\n",
      "Alabama       89\n",
      "Minnesota     88\n",
      "Nebraska      87\n",
      "New York      87\n",
      "Nevada        87\n",
      "Maryland      86\n",
      "Name: count, dtype: int64\n"
     ]
    },
    {
     "data": {
      "image/png": "[encoded data removed]",
      "text/plain": [
       "<Figure size 640x480 with 1 Axes>"
      ]
     },
     "metadata": {},
     "output_type": "display_data"
    }
   ],
   "source": [
    "df['Location'].value_counts()[:10].plot(kind='bar')\n",
    "print(df['Location'].value_counts()[:10])"
   ]
  },
  {
   "cell_type": "code",
   "execution_count": 25,
   "id": "35e66ed8",
   "metadata": {
    "execution": {
     "iopub.execute_input": "2023-12-07T07:16:08.389095Z",
     "iopub.status.busy": "2023-12-07T07:16:08.388638Z",
     "iopub.status.idle": "2023-12-07T07:16:08.730037Z",
     "shell.execute_reply": "2023-12-07T07:16:08.728774Z"
    },
    "papermill": {
     "duration": 0.371273,
     "end_time": "2023-12-07T07:16:08.732884",
     "exception": false,
     "start_time": "2023-12-07T07:16:08.361611",
     "status": "completed"
    },
    "tags": []
   },
   "outputs": [
    {
     "name": "stdout",
     "output_type": "stream",
     "text": [
      "Location\n",
      "Montana          5784\n",
      "Illinois         5617\n",
      "California       5605\n",
      "Idaho            5587\n",
      "Nevada           5514\n",
      "Alabama          5261\n",
      "New York         5257\n",
      "North Dakota     5220\n",
      "West Virginia    5174\n",
      "Nebraska         5172\n",
      "Name: Purchase Amount (USD), dtype: int64\n"
     ]
    },
    {
     "data": {
      "image/png": "[encoded data removed]",
      "text/plain": [
       "<Figure size 640x480 with 1 Axes>"
      ]
     },
     "metadata": {},
     "output_type": "display_data"
    }
   ],
   "source": [
    "#Montana has highest no of sale as well as highest amount of sales\n",
    "df.groupby('Location')['Purchase Amount (USD)'].sum().sort_values(ascending = False)[:10].plot(kind='bar')\n",
    "print(df.groupby('Location')['Purchase Amount (USD)'].sum().sort_values(ascending = False)[:10])"
   ]
  },
  {
   "cell_type": "markdown",
   "id": "a7e7b02b",
   "metadata": {
    "papermill": {
     "duration": 0.026258,
     "end_time": "2023-12-07T07:16:08.784037",
     "exception": false,
     "start_time": "2023-12-07T07:16:08.757779",
     "status": "completed"
    },
    "tags": []
   },
   "source": [
    "18. Is there a relationship between customer age and the category of products they purchase?"
   ]
  },
  {
   "cell_type": "code",
   "execution_count": 26,
   "id": "65c8ed46",
   "metadata": {
    "execution": {
     "iopub.execute_input": "2023-12-07T07:16:08.837331Z",
     "iopub.status.busy": "2023-12-07T07:16:08.836500Z",
     "iopub.status.idle": "2023-12-07T07:16:09.190534Z",
     "shell.execute_reply": "2023-12-07T07:16:09.189252Z"
    },
    "papermill": {
     "duration": 0.384308,
     "end_time": "2023-12-07T07:16:09.193249",
     "exception": false,
     "start_time": "2023-12-07T07:16:08.808941",
     "status": "completed"
    },
    "tags": []
   },
   "outputs": [
    {
     "data": {
      "text/plain": [
       "<Axes: xlabel='Category', ylabel='count'>"
      ]
     },
     "execution_count": 26,
     "metadata": {},
     "output_type": "execute_result"
    },
    {
     "data": {
      "image/png": "[encoded data removed]",
      "text/plain": [
       "<Figure size 640x480 with 1 Axes>"
      ]
     },
     "metadata": {},
     "output_type": "display_data"
    }
   ],
   "source": [
    "sns.countplot(data=df, x='Category', hue='Age_category')"
   ]
  },
  {
   "cell_type": "markdown",
   "id": "f2afda63",
   "metadata": {
    "papermill": {
     "duration": 0.024738,
     "end_time": "2023-12-07T07:16:09.243136",
     "exception": false,
     "start_time": "2023-12-07T07:16:09.218398",
     "status": "completed"
    },
    "tags": []
   },
   "source": [
    "19. How does the average purchase amount differ between male and female customers?"
   ]
  },
  {
   "cell_type": "code",
   "execution_count": 27,
   "id": "85ae52c1",
   "metadata": {
    "execution": {
     "iopub.execute_input": "2023-12-07T07:16:09.295839Z",
     "iopub.status.busy": "2023-12-07T07:16:09.295376Z",
     "iopub.status.idle": "2023-12-07T07:16:09.555451Z",
     "shell.execute_reply": "2023-12-07T07:16:09.554307Z"
    },
    "papermill": {
     "duration": 0.289919,
     "end_time": "2023-12-07T07:16:09.558023",
     "exception": false,
     "start_time": "2023-12-07T07:16:09.268104",
     "status": "completed"
    },
    "tags": []
   },
   "outputs": [
    {
     "name": "stdout",
     "output_type": "stream",
     "text": [
      "Gender\n",
      "Female    60.249199\n",
      "Male      59.536199\n",
      "Name: Purchase Amount (USD), dtype: float64\n"
     ]
    },
    {
     "data": {
      "image/png": "[encoded data removed]",
      "text/plain": [
       "<Figure size 640x480 with 1 Axes>"
      ]
     },
     "metadata": {},
     "output_type": "display_data"
    }
   ],
   "source": [
    "df.groupby('Gender')['Purchase Amount (USD)'].mean().plot(kind='bar')\n",
    "print(df.groupby('Gender')['Purchase Amount (USD)'].mean())"
   ]
  },
  {
   "cell_type": "markdown",
   "id": "0faeeb95",
   "metadata": {
    "papermill": {
     "duration": 0.025893,
     "end_time": "2023-12-07T07:16:09.610398",
     "exception": false,
     "start_time": "2023-12-07T07:16:09.584505",
     "status": "completed"
    },
    "tags": []
   },
   "source": [
    "Not much difference between male & female"
   ]
  },
  {
   "cell_type": "markdown",
   "id": "0c4f2440",
   "metadata": {
    "papermill": {
     "duration": 0.026292,
     "end_time": "2023-12-07T07:16:09.662969",
     "exception": false,
     "start_time": "2023-12-07T07:16:09.636677",
     "status": "completed"
    },
    "tags": []
   },
   "source": [
    "# Conclusion & Discussion"
   ]
  },
  {
   "cell_type": "markdown",
   "id": "bc68930e",
   "metadata": {
    "papermill": {
     "duration": 0.026453,
     "end_time": "2023-12-07T07:16:09.717555",
     "exception": false,
     "start_time": "2023-12-07T07:16:09.691102",
     "status": "completed"
    },
    "tags": []
   },
   "source": [
    "The analysis unfolded in three main stages: Data Preparation, Data Analysis, and Data Visualization. These stages played a pivotal role in revealing valuable insights about shopping trend, addressing key business questions and challenges.\n",
    "\n",
    "In conclusion, these discoveries are essential for industry advisors and decision-makers in shaping strategies for fashion acquisition, creation, and distribution on the platform."
   ]
  },
  {
   "cell_type": "code",
   "execution_count": null,
   "id": "0f41b077",
   "metadata": {
    "papermill": {
     "duration": 0.027569,
     "end_time": "2023-12-07T07:16:09.771198",
     "exception": false,
     "start_time": "2023-12-07T07:16:09.743629",
     "status": "completed"
    },
    "tags": []
   },
   "outputs": [],
   "source": []
  }
 ],
 "metadata": {
  "kaggle": {
   "accelerator": "none",
   "dataSources": [
    {
     "datasetId": 3808038,
     "sourceId": 6613614,
     "sourceType": "datasetVersion"
    }
   ],
   "dockerImageVersionId": 30587,
   "isGpuEnabled": false,
   "isInternetEnabled": false,
   "language": "python",
   "sourceType": "notebook"
  },
  "kernelspec": {
   "display_name": "Python 3",
   "language": "python",
   "name": "python3"
  },
  "language_info": {
   "codemirror_mode": {
    "name": "ipython",
    "version": 3
   },
   "file_extension": ".py",
   "mimetype": "text/x-python",
   "name": "python",
   "nbconvert_exporter": "python",
   "pygments_lexer": "ipython3",
   "version": "3.10.12"
  },
  "papermill": {
   "default_parameters": {},
   "duration": 16.040895,
   "end_time": "2023-12-07T07:16:10.724625",
   "environment_variables": {},
   "exception": null,
   "input_path": "__notebook__.ipynb",
   "output_path": "__notebook__.ipynb",
   "parameters": {},
   "start_time": "2023-12-07T07:15:54.683730",
   "version": "2.4.0"
  }
 },
 "nbformat": 4,
 "nbformat_minor": 5
}
